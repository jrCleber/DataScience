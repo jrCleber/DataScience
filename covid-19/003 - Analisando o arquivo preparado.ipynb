{
 "cells": [
  {
   "cell_type": "code",
   "execution_count": 1,
   "metadata": {},
   "outputs": [],
   "source": [
    "#cmd: cd desktop/Git/DataScience/covid-19\n",
    "#activate py38\n",
    "#jupyter notebook"
   ]
  },
  {
   "cell_type": "code",
   "execution_count": 2,
   "metadata": {},
   "outputs": [],
   "source": [
    "from ambiente import DSAmbiente\n",
    "from datetime import datetime as dt"
   ]
  },
  {
   "cell_type": "code",
   "execution_count": 3,
   "metadata": {},
   "outputs": [],
   "source": [
    "import pandas as pd"
   ]
  },
  {
   "cell_type": "code",
   "execution_count": 4,
   "metadata": {},
   "outputs": [],
   "source": [
    "from matplotlib import pyplot as plt\n",
    "import seaborn as sb"
   ]
  },
  {
   "cell_type": "code",
   "execution_count": 5,
   "metadata": {},
   "outputs": [],
   "source": [
    "from meta import Meta\n",
    "meta = Meta()\n",
    "meta.set_meta('__datetime__', dt(2020,6,16,10,18))\n",
    "meta.set_meta('__credits__',['CWOJR'])\n",
    "meta.set_meta('__author__', 'jrCleber')"
   ]
  },
  {
   "cell_type": "code",
   "execution_count": 6,
   "metadata": {},
   "outputs": [],
   "source": [
    "#instanciando objeto\n",
    "ab = DSAmbiente()"
   ]
  },
  {
   "cell_type": "code",
   "execution_count": 7,
   "metadata": {},
   "outputs": [
    {
     "name": "stdout",
     "output_type": "stream",
     "text": [
      "SELECIONE O DATASET:\n",
      "____________________________________________________________\n",
      "C:\\Users\\clebe\\Desktop\\Python\\Analises\\002 - Dados Preparados\n",
      "(0) para para o Dataset: covid_work_2020-06-16.xlsx\n",
      "(1) para para o Dataset: hist_covid19br_2020-06-15.xlsx\n",
      "____________________________________________________________\n",
      "------------------------------------------------------------\n",
      "Escolha: 0\n"
     ]
    },
    {
     "data": {
      "text/plain": [
       "WindowsPath('C:/Users/clebe/Desktop/Python/Analises/002 - Dados Preparados/covid_work_2020-06-16.xlsx')"
      ]
     },
     "execution_count": 7,
     "metadata": {},
     "output_type": "execute_result"
    }
   ],
   "source": [
    "#alocando path do dataset do ambiente de trabalhoe em uma variável\n",
    "covid_xlsx = ab.file_data_ambiente()\n",
    "covid_xlsx"
   ]
  },
  {
   "cell_type": "markdown",
   "metadata": {},
   "source": [
    "# Lendo arquiv covid_work_2020-06-16.xlsx com pandas"
   ]
  },
  {
   "cell_type": "code",
   "execution_count": 8,
   "metadata": {},
   "outputs": [
    {
     "data": {
      "text/html": [
       "<div>\n",
       "<style scoped>\n",
       "    .dataframe tbody tr th:only-of-type {\n",
       "        vertical-align: middle;\n",
       "    }\n",
       "\n",
       "    .dataframe tbody tr th {\n",
       "        vertical-align: top;\n",
       "    }\n",
       "\n",
       "    .dataframe thead th {\n",
       "        text-align: right;\n",
       "    }\n",
       "</style>\n",
       "<table border=\"1\" class=\"dataframe\">\n",
       "  <thead>\n",
       "    <tr style=\"text-align: right;\">\n",
       "      <th></th>\n",
       "      <th>regiao</th>\n",
       "      <th>estado</th>\n",
       "      <th>municipio</th>\n",
       "      <th>nomeRegiaoSaude</th>\n",
       "      <th>data</th>\n",
       "      <th>semanaEpi</th>\n",
       "      <th>casosNovos</th>\n",
       "      <th>obitosNovos</th>\n",
       "      <th>populacaoTCU2019_int</th>\n",
       "    </tr>\n",
       "  </thead>\n",
       "  <tbody>\n",
       "    <tr>\n",
       "      <th>0</th>\n",
       "      <td>Norte</td>\n",
       "      <td>RO</td>\n",
       "      <td>Alta Floresta D'Oeste</td>\n",
       "      <td>ZONA DA MATA</td>\n",
       "      <td>2020-03-27</td>\n",
       "      <td>13</td>\n",
       "      <td>0</td>\n",
       "      <td>0</td>\n",
       "      <td>15852.0</td>\n",
       "    </tr>\n",
       "    <tr>\n",
       "      <th>1</th>\n",
       "      <td>Norte</td>\n",
       "      <td>RO</td>\n",
       "      <td>Alta Floresta D'Oeste</td>\n",
       "      <td>ZONA DA MATA</td>\n",
       "      <td>2020-03-28</td>\n",
       "      <td>13</td>\n",
       "      <td>0</td>\n",
       "      <td>0</td>\n",
       "      <td>15852.0</td>\n",
       "    </tr>\n",
       "    <tr>\n",
       "      <th>2</th>\n",
       "      <td>Norte</td>\n",
       "      <td>RO</td>\n",
       "      <td>Alta Floresta D'Oeste</td>\n",
       "      <td>ZONA DA MATA</td>\n",
       "      <td>2020-03-29</td>\n",
       "      <td>14</td>\n",
       "      <td>0</td>\n",
       "      <td>0</td>\n",
       "      <td>15852.0</td>\n",
       "    </tr>\n",
       "    <tr>\n",
       "      <th>3</th>\n",
       "      <td>Norte</td>\n",
       "      <td>RO</td>\n",
       "      <td>Alta Floresta D'Oeste</td>\n",
       "      <td>ZONA DA MATA</td>\n",
       "      <td>2020-03-30</td>\n",
       "      <td>14</td>\n",
       "      <td>0</td>\n",
       "      <td>0</td>\n",
       "      <td>15852.0</td>\n",
       "    </tr>\n",
       "    <tr>\n",
       "      <th>4</th>\n",
       "      <td>Norte</td>\n",
       "      <td>RO</td>\n",
       "      <td>Alta Floresta D'Oeste</td>\n",
       "      <td>ZONA DA MATA</td>\n",
       "      <td>2020-03-31</td>\n",
       "      <td>14</td>\n",
       "      <td>0</td>\n",
       "      <td>0</td>\n",
       "      <td>15852.0</td>\n",
       "    </tr>\n",
       "  </tbody>\n",
       "</table>\n",
       "</div>"
      ],
      "text/plain": [
       "  regiao estado              municipio nomeRegiaoSaude       data  semanaEpi  \\\n",
       "0  Norte     RO  Alta Floresta D'Oeste    ZONA DA MATA 2020-03-27         13   \n",
       "1  Norte     RO  Alta Floresta D'Oeste    ZONA DA MATA 2020-03-28         13   \n",
       "2  Norte     RO  Alta Floresta D'Oeste    ZONA DA MATA 2020-03-29         14   \n",
       "3  Norte     RO  Alta Floresta D'Oeste    ZONA DA MATA 2020-03-30         14   \n",
       "4  Norte     RO  Alta Floresta D'Oeste    ZONA DA MATA 2020-03-31         14   \n",
       "\n",
       "   casosNovos  obitosNovos  populacaoTCU2019_int  \n",
       "0           0            0               15852.0  \n",
       "1           0            0               15852.0  \n",
       "2           0            0               15852.0  \n",
       "3           0            0               15852.0  \n",
       "4           0            0               15852.0  "
      ]
     },
     "execution_count": 8,
     "metadata": {},
     "output_type": "execute_result"
    }
   ],
   "source": [
    "covid_work = pd.read_excel(covid_xlsx)\n",
    "covid_work.head()"
   ]
  },
  {
   "cell_type": "markdown",
   "metadata": {},
   "source": [
    "# Brasil"
   ]
  },
  {
   "cell_type": "code",
   "execution_count": 9,
   "metadata": {},
   "outputs": [
    {
     "data": {
      "text/plain": [
       "884900"
      ]
     },
     "execution_count": 9,
     "metadata": {},
     "output_type": "execute_result"
    }
   ],
   "source": [
    "#total de casos\n",
    "total_casos = covid_work.casosNovos.sum()\n",
    "total_casos"
   ]
  },
  {
   "cell_type": "code",
   "execution_count": 10,
   "metadata": {},
   "outputs": [
    {
     "data": {
      "text/plain": [
       "43900"
      ]
     },
     "execution_count": 10,
     "metadata": {},
     "output_type": "execute_result"
    }
   ],
   "source": [
    "#total de obtos\n",
    "total_obtos = covid_work.obitosNovos.sum()\n",
    "total_obtos"
   ]
  },
  {
   "cell_type": "code",
   "execution_count": 11,
   "metadata": {},
   "outputs": [
    {
     "data": {
      "text/plain": [
       "200623035.0"
      ]
     },
     "execution_count": 11,
     "metadata": {},
     "output_type": "execute_result"
    }
   ],
   "source": [
    "#total populacao avaliada\n",
    "populacao = covid_work.groupby('populacaoTCU2019_int', as_index=False).sum()\n",
    "tt_populacao = populacao.populacaoTCU2019_int.sum()\n",
    "tt_populacao"
   ]
  },
  {
   "cell_type": "code",
   "execution_count": 12,
   "metadata": {},
   "outputs": [
    {
     "data": {
      "text/plain": [
       "4.961012543790258"
      ]
     },
     "execution_count": 12,
     "metadata": {},
     "output_type": "execute_result"
    }
   ],
   "source": [
    "#letalidade em %\n",
    "letalidade = total_obtos*100/total_casos\n",
    "letalidade"
   ]
  },
  {
   "cell_type": "markdown",
   "metadata": {},
   "source": [
    "# Por Região"
   ]
  },
  {
   "cell_type": "code",
   "execution_count": 13,
   "metadata": {},
   "outputs": [
    {
     "data": {
      "text/html": [
       "<div>\n",
       "<style scoped>\n",
       "    .dataframe tbody tr th:only-of-type {\n",
       "        vertical-align: middle;\n",
       "    }\n",
       "\n",
       "    .dataframe tbody tr th {\n",
       "        vertical-align: top;\n",
       "    }\n",
       "\n",
       "    .dataframe thead th {\n",
       "        text-align: right;\n",
       "    }\n",
       "</style>\n",
       "<table border=\"1\" class=\"dataframe\">\n",
       "  <thead>\n",
       "    <tr style=\"text-align: right;\">\n",
       "      <th></th>\n",
       "      <th>regiao</th>\n",
       "      <th>casosNovos</th>\n",
       "      <th>obitosNovos</th>\n",
       "      <th>populacaoTCU2019_int</th>\n",
       "    </tr>\n",
       "  </thead>\n",
       "  <tbody>\n",
       "    <tr>\n",
       "      <th>0</th>\n",
       "      <td>Norte</td>\n",
       "      <td>0</td>\n",
       "      <td>0</td>\n",
       "      <td>15852.0</td>\n",
       "    </tr>\n",
       "    <tr>\n",
       "      <th>1</th>\n",
       "      <td>Norte</td>\n",
       "      <td>0</td>\n",
       "      <td>0</td>\n",
       "      <td>15852.0</td>\n",
       "    </tr>\n",
       "    <tr>\n",
       "      <th>2</th>\n",
       "      <td>Norte</td>\n",
       "      <td>0</td>\n",
       "      <td>0</td>\n",
       "      <td>15852.0</td>\n",
       "    </tr>\n",
       "    <tr>\n",
       "      <th>3</th>\n",
       "      <td>Norte</td>\n",
       "      <td>0</td>\n",
       "      <td>0</td>\n",
       "      <td>15852.0</td>\n",
       "    </tr>\n",
       "    <tr>\n",
       "      <th>4</th>\n",
       "      <td>Norte</td>\n",
       "      <td>0</td>\n",
       "      <td>0</td>\n",
       "      <td>15852.0</td>\n",
       "    </tr>\n",
       "  </tbody>\n",
       "</table>\n",
       "</div>"
      ],
      "text/plain": [
       "  regiao  casosNovos  obitosNovos  populacaoTCU2019_int\n",
       "0  Norte           0            0               15852.0\n",
       "1  Norte           0            0               15852.0\n",
       "2  Norte           0            0               15852.0\n",
       "3  Norte           0            0               15852.0\n",
       "4  Norte           0            0               15852.0"
      ]
     },
     "execution_count": 13,
     "metadata": {},
     "output_type": "execute_result"
    }
   ],
   "source": [
    "regiao = covid_work.loc[:, ['regiao','casosNovos','obitosNovos','populacaoTCU2019_int']]\n",
    "regiao.head()"
   ]
  },
  {
   "cell_type": "code",
   "execution_count": 14,
   "metadata": {},
   "outputs": [
    {
     "data": {
      "text/html": [
       "<div>\n",
       "<style scoped>\n",
       "    .dataframe tbody tr th:only-of-type {\n",
       "        vertical-align: middle;\n",
       "    }\n",
       "\n",
       "    .dataframe tbody tr th {\n",
       "        vertical-align: top;\n",
       "    }\n",
       "\n",
       "    .dataframe thead th {\n",
       "        text-align: right;\n",
       "    }\n",
       "</style>\n",
       "<table border=\"1\" class=\"dataframe\">\n",
       "  <thead>\n",
       "    <tr style=\"text-align: right;\">\n",
       "      <th></th>\n",
       "      <th>casosNovos</th>\n",
       "      <th>obitosNovos</th>\n",
       "      <th>populacaoTCU2019_int</th>\n",
       "    </tr>\n",
       "    <tr>\n",
       "      <th>regiao</th>\n",
       "      <th></th>\n",
       "      <th></th>\n",
       "      <th></th>\n",
       "    </tr>\n",
       "  </thead>\n",
       "  <tbody>\n",
       "    <tr>\n",
       "      <th>Centro-Oeste</th>\n",
       "      <td>43528</td>\n",
       "      <td>789</td>\n",
       "      <td>1.063829e+09</td>\n",
       "    </tr>\n",
       "    <tr>\n",
       "      <th>Nordeste</th>\n",
       "      <td>312912</td>\n",
       "      <td>14198</td>\n",
       "      <td>4.737140e+09</td>\n",
       "    </tr>\n",
       "    <tr>\n",
       "      <th>Norte</th>\n",
       "      <td>178695</td>\n",
       "      <td>7976</td>\n",
       "      <td>1.441727e+09</td>\n",
       "    </tr>\n",
       "    <tr>\n",
       "      <th>Sudeste</th>\n",
       "      <td>310870</td>\n",
       "      <td>20044</td>\n",
       "      <td>6.813554e+09</td>\n",
       "    </tr>\n",
       "    <tr>\n",
       "      <th>Sul</th>\n",
       "      <td>38895</td>\n",
       "      <td>893</td>\n",
       "      <td>2.367996e+09</td>\n",
       "    </tr>\n",
       "  </tbody>\n",
       "</table>\n",
       "</div>"
      ],
      "text/plain": [
       "              casosNovos  obitosNovos  populacaoTCU2019_int\n",
       "regiao                                                     \n",
       "Centro-Oeste       43528          789          1.063829e+09\n",
       "Nordeste          312912        14198          4.737140e+09\n",
       "Norte             178695         7976          1.441727e+09\n",
       "Sudeste           310870        20044          6.813554e+09\n",
       "Sul                38895          893          2.367996e+09"
      ]
     },
     "execution_count": 14,
     "metadata": {},
     "output_type": "execute_result"
    }
   ],
   "source": [
    "#Agrupando por região\n",
    "regiao_group = regiao.groupby('regiao', as_index=True).sum()\n",
    "regiao_group.head()"
   ]
  },
  {
   "cell_type": "code",
   "execution_count": 15,
   "metadata": {},
   "outputs": [
    {
     "name": "stderr",
     "output_type": "stream",
     "text": [
      "<ipython-input-15-9d29d1f7a567>:4: SettingWithCopyWarning: \n",
      "A value is trying to be set on a copy of a slice from a DataFrame\n",
      "\n",
      "See the caveats in the documentation: https://pandas.pydata.org/pandas-docs/stable/user_guide/indexing.html#returning-a-view-versus-a-copy\n",
      "  regiao_group['regiaoLetalidade'][i] = float(regiao_group.obitosNovos[i] * 100 / regiao_group.casosNovos[i])\n"
     ]
    },
    {
     "data": {
      "text/html": [
       "<div>\n",
       "<style scoped>\n",
       "    .dataframe tbody tr th:only-of-type {\n",
       "        vertical-align: middle;\n",
       "    }\n",
       "\n",
       "    .dataframe tbody tr th {\n",
       "        vertical-align: top;\n",
       "    }\n",
       "\n",
       "    .dataframe thead th {\n",
       "        text-align: right;\n",
       "    }\n",
       "</style>\n",
       "<table border=\"1\" class=\"dataframe\">\n",
       "  <thead>\n",
       "    <tr style=\"text-align: right;\">\n",
       "      <th></th>\n",
       "      <th>casosNovos</th>\n",
       "      <th>obitosNovos</th>\n",
       "      <th>populacaoTCU2019_int</th>\n",
       "      <th>regiaoLetalidade</th>\n",
       "    </tr>\n",
       "    <tr>\n",
       "      <th>regiao</th>\n",
       "      <th></th>\n",
       "      <th></th>\n",
       "      <th></th>\n",
       "      <th></th>\n",
       "    </tr>\n",
       "  </thead>\n",
       "  <tbody>\n",
       "    <tr>\n",
       "      <th>Centro-Oeste</th>\n",
       "      <td>43528</td>\n",
       "      <td>789</td>\n",
       "      <td>1.063829e+09</td>\n",
       "      <td>1.81263</td>\n",
       "    </tr>\n",
       "    <tr>\n",
       "      <th>Nordeste</th>\n",
       "      <td>312912</td>\n",
       "      <td>14198</td>\n",
       "      <td>4.737140e+09</td>\n",
       "      <td>4.53738</td>\n",
       "    </tr>\n",
       "    <tr>\n",
       "      <th>Norte</th>\n",
       "      <td>178695</td>\n",
       "      <td>7976</td>\n",
       "      <td>1.441727e+09</td>\n",
       "      <td>4.46347</td>\n",
       "    </tr>\n",
       "    <tr>\n",
       "      <th>Sudeste</th>\n",
       "      <td>310870</td>\n",
       "      <td>20044</td>\n",
       "      <td>6.813554e+09</td>\n",
       "      <td>6.44771</td>\n",
       "    </tr>\n",
       "    <tr>\n",
       "      <th>Sul</th>\n",
       "      <td>38895</td>\n",
       "      <td>893</td>\n",
       "      <td>2.367996e+09</td>\n",
       "      <td>2.29592</td>\n",
       "    </tr>\n",
       "  </tbody>\n",
       "</table>\n",
       "</div>"
      ],
      "text/plain": [
       "              casosNovos  obitosNovos  populacaoTCU2019_int regiaoLetalidade\n",
       "regiao                                                                      \n",
       "Centro-Oeste       43528          789          1.063829e+09          1.81263\n",
       "Nordeste          312912        14198          4.737140e+09          4.53738\n",
       "Norte             178695         7976          1.441727e+09          4.46347\n",
       "Sudeste           310870        20044          6.813554e+09          6.44771\n",
       "Sul                38895          893          2.367996e+09          2.29592"
      ]
     },
     "execution_count": 15,
     "metadata": {},
     "output_type": "execute_result"
    }
   ],
   "source": [
    "#letalidade por regiao\n",
    "regiao_group['regiaoLetalidade'] = [None] * regiao_group.shape[0]\n",
    "for i in range(len(regiao_group)):\n",
    "    regiao_group['regiaoLetalidade'][i] = float(regiao_group.obitosNovos[i] * 100 / regiao_group.casosNovos[i])\n",
    "regiao_group.head()"
   ]
  },
  {
   "cell_type": "markdown",
   "metadata": {},
   "source": [
    "# Por Estado"
   ]
  },
  {
   "cell_type": "code",
   "execution_count": 16,
   "metadata": {},
   "outputs": [
    {
     "data": {
      "text/html": [
       "<div>\n",
       "<style scoped>\n",
       "    .dataframe tbody tr th:only-of-type {\n",
       "        vertical-align: middle;\n",
       "    }\n",
       "\n",
       "    .dataframe tbody tr th {\n",
       "        vertical-align: top;\n",
       "    }\n",
       "\n",
       "    .dataframe thead th {\n",
       "        text-align: right;\n",
       "    }\n",
       "</style>\n",
       "<table border=\"1\" class=\"dataframe\">\n",
       "  <thead>\n",
       "    <tr style=\"text-align: right;\">\n",
       "      <th></th>\n",
       "      <th>estado</th>\n",
       "      <th>casosNovos</th>\n",
       "      <th>obitosNovos</th>\n",
       "      <th>populacaoTCU2019_int</th>\n",
       "    </tr>\n",
       "  </thead>\n",
       "  <tbody>\n",
       "    <tr>\n",
       "      <th>0</th>\n",
       "      <td>RO</td>\n",
       "      <td>0</td>\n",
       "      <td>0</td>\n",
       "      <td>15852.0</td>\n",
       "    </tr>\n",
       "    <tr>\n",
       "      <th>1</th>\n",
       "      <td>RO</td>\n",
       "      <td>0</td>\n",
       "      <td>0</td>\n",
       "      <td>15852.0</td>\n",
       "    </tr>\n",
       "    <tr>\n",
       "      <th>2</th>\n",
       "      <td>RO</td>\n",
       "      <td>0</td>\n",
       "      <td>0</td>\n",
       "      <td>15852.0</td>\n",
       "    </tr>\n",
       "    <tr>\n",
       "      <th>3</th>\n",
       "      <td>RO</td>\n",
       "      <td>0</td>\n",
       "      <td>0</td>\n",
       "      <td>15852.0</td>\n",
       "    </tr>\n",
       "    <tr>\n",
       "      <th>4</th>\n",
       "      <td>RO</td>\n",
       "      <td>0</td>\n",
       "      <td>0</td>\n",
       "      <td>15852.0</td>\n",
       "    </tr>\n",
       "  </tbody>\n",
       "</table>\n",
       "</div>"
      ],
      "text/plain": [
       "  estado  casosNovos  obitosNovos  populacaoTCU2019_int\n",
       "0     RO           0            0               15852.0\n",
       "1     RO           0            0               15852.0\n",
       "2     RO           0            0               15852.0\n",
       "3     RO           0            0               15852.0\n",
       "4     RO           0            0               15852.0"
      ]
     },
     "execution_count": 16,
     "metadata": {},
     "output_type": "execute_result"
    }
   ],
   "source": [
    "estado = covid_work.loc[:, ['estado','casosNovos','obitosNovos','populacaoTCU2019_int']]\n",
    "estado.head()"
   ]
  },
  {
   "cell_type": "code",
   "execution_count": 17,
   "metadata": {},
   "outputs": [
    {
     "data": {
      "text/html": [
       "<div>\n",
       "<style scoped>\n",
       "    .dataframe tbody tr th:only-of-type {\n",
       "        vertical-align: middle;\n",
       "    }\n",
       "\n",
       "    .dataframe tbody tr th {\n",
       "        vertical-align: top;\n",
       "    }\n",
       "\n",
       "    .dataframe thead th {\n",
       "        text-align: right;\n",
       "    }\n",
       "</style>\n",
       "<table border=\"1\" class=\"dataframe\">\n",
       "  <thead>\n",
       "    <tr style=\"text-align: right;\">\n",
       "      <th></th>\n",
       "      <th>casosNovos</th>\n",
       "      <th>obitosNovos</th>\n",
       "      <th>populacaoTCU2019_int</th>\n",
       "    </tr>\n",
       "    <tr>\n",
       "      <th>estado</th>\n",
       "      <th></th>\n",
       "      <th></th>\n",
       "      <th></th>\n",
       "    </tr>\n",
       "  </thead>\n",
       "  <tbody>\n",
       "    <tr>\n",
       "      <th>AC</th>\n",
       "      <td>9771</td>\n",
       "      <td>265</td>\n",
       "      <td>2.421190e+08</td>\n",
       "    </tr>\n",
       "    <tr>\n",
       "      <th>AL</th>\n",
       "      <td>22880</td>\n",
       "      <td>763</td>\n",
       "      <td>2.442900e+08</td>\n",
       "    </tr>\n",
       "    <tr>\n",
       "      <th>AM</th>\n",
       "      <td>56777</td>\n",
       "      <td>2512</td>\n",
       "      <td>3.557728e+08</td>\n",
       "    </tr>\n",
       "    <tr>\n",
       "      <th>AP</th>\n",
       "      <td>16813</td>\n",
       "      <td>329</td>\n",
       "      <td>1.098624e+07</td>\n",
       "    </tr>\n",
       "    <tr>\n",
       "      <th>BA</th>\n",
       "      <td>37449</td>\n",
       "      <td>1141</td>\n",
       "      <td>1.400643e+09</td>\n",
       "    </tr>\n",
       "    <tr>\n",
       "      <th>CE</th>\n",
       "      <td>77704</td>\n",
       "      <td>4999</td>\n",
       "      <td>6.889750e+08</td>\n",
       "    </tr>\n",
       "    <tr>\n",
       "      <th>DF</th>\n",
       "      <td>23684</td>\n",
       "      <td>319</td>\n",
       "      <td>0.000000e+00</td>\n",
       "    </tr>\n",
       "    <tr>\n",
       "      <th>ES</th>\n",
       "      <td>27217</td>\n",
       "      <td>1081</td>\n",
       "      <td>7.072279e+08</td>\n",
       "    </tr>\n",
       "    <tr>\n",
       "      <th>GO</th>\n",
       "      <td>10178</td>\n",
       "      <td>226</td>\n",
       "      <td>6.202341e+08</td>\n",
       "    </tr>\n",
       "    <tr>\n",
       "      <th>MA</th>\n",
       "      <td>60592</td>\n",
       "      <td>1499</td>\n",
       "      <td>5.118898e+08</td>\n",
       "    </tr>\n",
       "    <tr>\n",
       "      <th>MG</th>\n",
       "      <td>21350</td>\n",
       "      <td>468</td>\n",
       "      <td>1.406637e+09</td>\n",
       "    </tr>\n",
       "    <tr>\n",
       "      <th>MS</th>\n",
       "      <td>3551</td>\n",
       "      <td>33</td>\n",
       "      <td>1.531462e+08</td>\n",
       "    </tr>\n",
       "    <tr>\n",
       "      <th>MT</th>\n",
       "      <td>6115</td>\n",
       "      <td>211</td>\n",
       "      <td>2.904482e+08</td>\n",
       "    </tr>\n",
       "    <tr>\n",
       "      <th>PA</th>\n",
       "      <td>69224</td>\n",
       "      <td>4201</td>\n",
       "      <td>4.701173e+08</td>\n",
       "    </tr>\n",
       "    <tr>\n",
       "      <th>PB</th>\n",
       "      <td>28668</td>\n",
       "      <td>656</td>\n",
       "      <td>4.413096e+08</td>\n",
       "    </tr>\n",
       "    <tr>\n",
       "      <th>PE</th>\n",
       "      <td>45416</td>\n",
       "      <td>3866</td>\n",
       "      <td>7.452819e+08</td>\n",
       "    </tr>\n",
       "    <tr>\n",
       "      <th>PI</th>\n",
       "      <td>10357</td>\n",
       "      <td>374</td>\n",
       "      <td>3.153970e+08</td>\n",
       "    </tr>\n",
       "    <tr>\n",
       "      <th>PR</th>\n",
       "      <td>9716</td>\n",
       "      <td>334</td>\n",
       "      <td>8.293429e+08</td>\n",
       "    </tr>\n",
       "    <tr>\n",
       "      <th>RJ</th>\n",
       "      <td>80946</td>\n",
       "      <td>7728</td>\n",
       "      <td>1.012615e+09</td>\n",
       "    </tr>\n",
       "    <tr>\n",
       "      <th>RN</th>\n",
       "      <td>14171</td>\n",
       "      <td>548</td>\n",
       "      <td>2.555580e+08</td>\n",
       "    </tr>\n",
       "    <tr>\n",
       "      <th>RO</th>\n",
       "      <td>12180</td>\n",
       "      <td>332</td>\n",
       "      <td>1.158874e+08</td>\n",
       "    </tr>\n",
       "    <tr>\n",
       "      <th>RR</th>\n",
       "      <td>6793</td>\n",
       "      <td>201</td>\n",
       "      <td>7.155304e+07</td>\n",
       "    </tr>\n",
       "    <tr>\n",
       "      <th>RS</th>\n",
       "      <td>15438</td>\n",
       "      <td>360</td>\n",
       "      <td>9.270988e+08</td>\n",
       "    </tr>\n",
       "    <tr>\n",
       "      <th>SC</th>\n",
       "      <td>13741</td>\n",
       "      <td>199</td>\n",
       "      <td>6.115544e+08</td>\n",
       "    </tr>\n",
       "    <tr>\n",
       "      <th>SE</th>\n",
       "      <td>15675</td>\n",
       "      <td>352</td>\n",
       "      <td>1.337960e+08</td>\n",
       "    </tr>\n",
       "    <tr>\n",
       "      <th>SP</th>\n",
       "      <td>181357</td>\n",
       "      <td>10767</td>\n",
       "      <td>3.687074e+09</td>\n",
       "    </tr>\n",
       "    <tr>\n",
       "      <th>TO</th>\n",
       "      <td>7137</td>\n",
       "      <td>136</td>\n",
       "      <td>1.752912e+08</td>\n",
       "    </tr>\n",
       "  </tbody>\n",
       "</table>\n",
       "</div>"
      ],
      "text/plain": [
       "        casosNovos  obitosNovos  populacaoTCU2019_int\n",
       "estado                                               \n",
       "AC            9771          265          2.421190e+08\n",
       "AL           22880          763          2.442900e+08\n",
       "AM           56777         2512          3.557728e+08\n",
       "AP           16813          329          1.098624e+07\n",
       "BA           37449         1141          1.400643e+09\n",
       "CE           77704         4999          6.889750e+08\n",
       "DF           23684          319          0.000000e+00\n",
       "ES           27217         1081          7.072279e+08\n",
       "GO           10178          226          6.202341e+08\n",
       "MA           60592         1499          5.118898e+08\n",
       "MG           21350          468          1.406637e+09\n",
       "MS            3551           33          1.531462e+08\n",
       "MT            6115          211          2.904482e+08\n",
       "PA           69224         4201          4.701173e+08\n",
       "PB           28668          656          4.413096e+08\n",
       "PE           45416         3866          7.452819e+08\n",
       "PI           10357          374          3.153970e+08\n",
       "PR            9716          334          8.293429e+08\n",
       "RJ           80946         7728          1.012615e+09\n",
       "RN           14171          548          2.555580e+08\n",
       "RO           12180          332          1.158874e+08\n",
       "RR            6793          201          7.155304e+07\n",
       "RS           15438          360          9.270988e+08\n",
       "SC           13741          199          6.115544e+08\n",
       "SE           15675          352          1.337960e+08\n",
       "SP          181357        10767          3.687074e+09\n",
       "TO            7137          136          1.752912e+08"
      ]
     },
     "execution_count": 17,
     "metadata": {},
     "output_type": "execute_result"
    }
   ],
   "source": [
    "estado_group = estado.groupby('estado', as_index=True).sum()\n",
    "estado_group.head(27)"
   ]
  },
  {
   "cell_type": "code",
   "execution_count": 18,
   "metadata": {},
   "outputs": [
    {
     "name": "stderr",
     "output_type": "stream",
     "text": [
      "<ipython-input-18-4b9929013fff>:4: SettingWithCopyWarning: \n",
      "A value is trying to be set on a copy of a slice from a DataFrame\n",
      "\n",
      "See the caveats in the documentation: https://pandas.pydata.org/pandas-docs/stable/user_guide/indexing.html#returning-a-view-versus-a-copy\n",
      "  estado_group.letalidadeEstado[i] = float(estado_group.obitosNovos[i] * 100 / estado_group.casosNovos[i])\n"
     ]
    },
    {
     "data": {
      "text/html": [
       "<div>\n",
       "<style scoped>\n",
       "    .dataframe tbody tr th:only-of-type {\n",
       "        vertical-align: middle;\n",
       "    }\n",
       "\n",
       "    .dataframe tbody tr th {\n",
       "        vertical-align: top;\n",
       "    }\n",
       "\n",
       "    .dataframe thead th {\n",
       "        text-align: right;\n",
       "    }\n",
       "</style>\n",
       "<table border=\"1\" class=\"dataframe\">\n",
       "  <thead>\n",
       "    <tr style=\"text-align: right;\">\n",
       "      <th></th>\n",
       "      <th>casosNovos</th>\n",
       "      <th>obitosNovos</th>\n",
       "      <th>populacaoTCU2019_int</th>\n",
       "      <th>letalidadeEstado</th>\n",
       "    </tr>\n",
       "    <tr>\n",
       "      <th>estado</th>\n",
       "      <th></th>\n",
       "      <th></th>\n",
       "      <th></th>\n",
       "      <th></th>\n",
       "    </tr>\n",
       "  </thead>\n",
       "  <tbody>\n",
       "    <tr>\n",
       "      <th>AC</th>\n",
       "      <td>9771</td>\n",
       "      <td>265</td>\n",
       "      <td>2.421190e+08</td>\n",
       "      <td>2.71211</td>\n",
       "    </tr>\n",
       "    <tr>\n",
       "      <th>AL</th>\n",
       "      <td>22880</td>\n",
       "      <td>763</td>\n",
       "      <td>2.442900e+08</td>\n",
       "      <td>3.33479</td>\n",
       "    </tr>\n",
       "    <tr>\n",
       "      <th>AM</th>\n",
       "      <td>56777</td>\n",
       "      <td>2512</td>\n",
       "      <td>3.557728e+08</td>\n",
       "      <td>4.42433</td>\n",
       "    </tr>\n",
       "    <tr>\n",
       "      <th>AP</th>\n",
       "      <td>16813</td>\n",
       "      <td>329</td>\n",
       "      <td>1.098624e+07</td>\n",
       "      <td>1.95682</td>\n",
       "    </tr>\n",
       "    <tr>\n",
       "      <th>BA</th>\n",
       "      <td>37449</td>\n",
       "      <td>1141</td>\n",
       "      <td>1.400643e+09</td>\n",
       "      <td>3.04681</td>\n",
       "    </tr>\n",
       "    <tr>\n",
       "      <th>CE</th>\n",
       "      <td>77704</td>\n",
       "      <td>4999</td>\n",
       "      <td>6.889750e+08</td>\n",
       "      <td>6.43339</td>\n",
       "    </tr>\n",
       "    <tr>\n",
       "      <th>DF</th>\n",
       "      <td>23684</td>\n",
       "      <td>319</td>\n",
       "      <td>0.000000e+00</td>\n",
       "      <td>1.3469</td>\n",
       "    </tr>\n",
       "    <tr>\n",
       "      <th>ES</th>\n",
       "      <td>27217</td>\n",
       "      <td>1081</td>\n",
       "      <td>7.072279e+08</td>\n",
       "      <td>3.97178</td>\n",
       "    </tr>\n",
       "    <tr>\n",
       "      <th>GO</th>\n",
       "      <td>10178</td>\n",
       "      <td>226</td>\n",
       "      <td>6.202341e+08</td>\n",
       "      <td>2.22048</td>\n",
       "    </tr>\n",
       "    <tr>\n",
       "      <th>MA</th>\n",
       "      <td>60592</td>\n",
       "      <td>1499</td>\n",
       "      <td>5.118898e+08</td>\n",
       "      <td>2.47392</td>\n",
       "    </tr>\n",
       "    <tr>\n",
       "      <th>MG</th>\n",
       "      <td>21350</td>\n",
       "      <td>468</td>\n",
       "      <td>1.406637e+09</td>\n",
       "      <td>2.19204</td>\n",
       "    </tr>\n",
       "    <tr>\n",
       "      <th>MS</th>\n",
       "      <td>3551</td>\n",
       "      <td>33</td>\n",
       "      <td>1.531462e+08</td>\n",
       "      <td>0.929316</td>\n",
       "    </tr>\n",
       "    <tr>\n",
       "      <th>MT</th>\n",
       "      <td>6115</td>\n",
       "      <td>211</td>\n",
       "      <td>2.904482e+08</td>\n",
       "      <td>3.45053</td>\n",
       "    </tr>\n",
       "    <tr>\n",
       "      <th>PA</th>\n",
       "      <td>69224</td>\n",
       "      <td>4201</td>\n",
       "      <td>4.701173e+08</td>\n",
       "      <td>6.0687</td>\n",
       "    </tr>\n",
       "    <tr>\n",
       "      <th>PB</th>\n",
       "      <td>28668</td>\n",
       "      <td>656</td>\n",
       "      <td>4.413096e+08</td>\n",
       "      <td>2.28827</td>\n",
       "    </tr>\n",
       "    <tr>\n",
       "      <th>PE</th>\n",
       "      <td>45416</td>\n",
       "      <td>3866</td>\n",
       "      <td>7.452819e+08</td>\n",
       "      <td>8.51242</td>\n",
       "    </tr>\n",
       "    <tr>\n",
       "      <th>PI</th>\n",
       "      <td>10357</td>\n",
       "      <td>374</td>\n",
       "      <td>3.153970e+08</td>\n",
       "      <td>3.61108</td>\n",
       "    </tr>\n",
       "    <tr>\n",
       "      <th>PR</th>\n",
       "      <td>9716</td>\n",
       "      <td>334</td>\n",
       "      <td>8.293429e+08</td>\n",
       "      <td>3.43763</td>\n",
       "    </tr>\n",
       "    <tr>\n",
       "      <th>RJ</th>\n",
       "      <td>80946</td>\n",
       "      <td>7728</td>\n",
       "      <td>1.012615e+09</td>\n",
       "      <td>9.54711</td>\n",
       "    </tr>\n",
       "    <tr>\n",
       "      <th>RN</th>\n",
       "      <td>14171</td>\n",
       "      <td>548</td>\n",
       "      <td>2.555580e+08</td>\n",
       "      <td>3.86705</td>\n",
       "    </tr>\n",
       "    <tr>\n",
       "      <th>RO</th>\n",
       "      <td>12180</td>\n",
       "      <td>332</td>\n",
       "      <td>1.158874e+08</td>\n",
       "      <td>2.72578</td>\n",
       "    </tr>\n",
       "    <tr>\n",
       "      <th>RR</th>\n",
       "      <td>6793</td>\n",
       "      <td>201</td>\n",
       "      <td>7.155304e+07</td>\n",
       "      <td>2.95893</td>\n",
       "    </tr>\n",
       "    <tr>\n",
       "      <th>RS</th>\n",
       "      <td>15438</td>\n",
       "      <td>360</td>\n",
       "      <td>9.270988e+08</td>\n",
       "      <td>2.33191</td>\n",
       "    </tr>\n",
       "    <tr>\n",
       "      <th>SC</th>\n",
       "      <td>13741</td>\n",
       "      <td>199</td>\n",
       "      <td>6.115544e+08</td>\n",
       "      <td>1.44822</td>\n",
       "    </tr>\n",
       "    <tr>\n",
       "      <th>SE</th>\n",
       "      <td>15675</td>\n",
       "      <td>352</td>\n",
       "      <td>1.337960e+08</td>\n",
       "      <td>2.24561</td>\n",
       "    </tr>\n",
       "    <tr>\n",
       "      <th>SP</th>\n",
       "      <td>181357</td>\n",
       "      <td>10767</td>\n",
       "      <td>3.687074e+09</td>\n",
       "      <td>5.93691</td>\n",
       "    </tr>\n",
       "    <tr>\n",
       "      <th>TO</th>\n",
       "      <td>7137</td>\n",
       "      <td>136</td>\n",
       "      <td>1.752912e+08</td>\n",
       "      <td>1.90556</td>\n",
       "    </tr>\n",
       "  </tbody>\n",
       "</table>\n",
       "</div>"
      ],
      "text/plain": [
       "        casosNovos  obitosNovos  populacaoTCU2019_int letalidadeEstado\n",
       "estado                                                                \n",
       "AC            9771          265          2.421190e+08          2.71211\n",
       "AL           22880          763          2.442900e+08          3.33479\n",
       "AM           56777         2512          3.557728e+08          4.42433\n",
       "AP           16813          329          1.098624e+07          1.95682\n",
       "BA           37449         1141          1.400643e+09          3.04681\n",
       "CE           77704         4999          6.889750e+08          6.43339\n",
       "DF           23684          319          0.000000e+00           1.3469\n",
       "ES           27217         1081          7.072279e+08          3.97178\n",
       "GO           10178          226          6.202341e+08          2.22048\n",
       "MA           60592         1499          5.118898e+08          2.47392\n",
       "MG           21350          468          1.406637e+09          2.19204\n",
       "MS            3551           33          1.531462e+08         0.929316\n",
       "MT            6115          211          2.904482e+08          3.45053\n",
       "PA           69224         4201          4.701173e+08           6.0687\n",
       "PB           28668          656          4.413096e+08          2.28827\n",
       "PE           45416         3866          7.452819e+08          8.51242\n",
       "PI           10357          374          3.153970e+08          3.61108\n",
       "PR            9716          334          8.293429e+08          3.43763\n",
       "RJ           80946         7728          1.012615e+09          9.54711\n",
       "RN           14171          548          2.555580e+08          3.86705\n",
       "RO           12180          332          1.158874e+08          2.72578\n",
       "RR            6793          201          7.155304e+07          2.95893\n",
       "RS           15438          360          9.270988e+08          2.33191\n",
       "SC           13741          199          6.115544e+08          1.44822\n",
       "SE           15675          352          1.337960e+08          2.24561\n",
       "SP          181357        10767          3.687074e+09          5.93691\n",
       "TO            7137          136          1.752912e+08          1.90556"
      ]
     },
     "execution_count": 18,
     "metadata": {},
     "output_type": "execute_result"
    }
   ],
   "source": [
    "#letalidade por estado\n",
    "estado_group['letalidadeEstado'] = [None] * estado_group.shape[0]\n",
    "for i in range(len(estado_group)):\n",
    "    estado_group.letalidadeEstado[i] = float(estado_group.obitosNovos[i] * 100 / estado_group.casosNovos[i])\n",
    "estado_group.head(27)"
   ]
  },
  {
   "cell_type": "markdown",
   "metadata": {},
   "source": [
    "# Por regional de saúde"
   ]
  },
  {
   "cell_type": "code",
   "execution_count": 19,
   "metadata": {},
   "outputs": [
    {
     "data": {
      "text/html": [
       "<div>\n",
       "<style scoped>\n",
       "    .dataframe tbody tr th:only-of-type {\n",
       "        vertical-align: middle;\n",
       "    }\n",
       "\n",
       "    .dataframe tbody tr th {\n",
       "        vertical-align: top;\n",
       "    }\n",
       "\n",
       "    .dataframe thead th {\n",
       "        text-align: right;\n",
       "    }\n",
       "</style>\n",
       "<table border=\"1\" class=\"dataframe\">\n",
       "  <thead>\n",
       "    <tr style=\"text-align: right;\">\n",
       "      <th></th>\n",
       "      <th>nomeRegiaoSaude</th>\n",
       "      <th>casosNovos</th>\n",
       "      <th>obitosNovos</th>\n",
       "      <th>populacaoTCU2019_int</th>\n",
       "    </tr>\n",
       "  </thead>\n",
       "  <tbody>\n",
       "    <tr>\n",
       "      <th>0</th>\n",
       "      <td>ZONA DA MATA</td>\n",
       "      <td>0</td>\n",
       "      <td>0</td>\n",
       "      <td>15852.0</td>\n",
       "    </tr>\n",
       "    <tr>\n",
       "      <th>1</th>\n",
       "      <td>ZONA DA MATA</td>\n",
       "      <td>0</td>\n",
       "      <td>0</td>\n",
       "      <td>15852.0</td>\n",
       "    </tr>\n",
       "    <tr>\n",
       "      <th>2</th>\n",
       "      <td>ZONA DA MATA</td>\n",
       "      <td>0</td>\n",
       "      <td>0</td>\n",
       "      <td>15852.0</td>\n",
       "    </tr>\n",
       "    <tr>\n",
       "      <th>3</th>\n",
       "      <td>ZONA DA MATA</td>\n",
       "      <td>0</td>\n",
       "      <td>0</td>\n",
       "      <td>15852.0</td>\n",
       "    </tr>\n",
       "    <tr>\n",
       "      <th>4</th>\n",
       "      <td>ZONA DA MATA</td>\n",
       "      <td>0</td>\n",
       "      <td>0</td>\n",
       "      <td>15852.0</td>\n",
       "    </tr>\n",
       "  </tbody>\n",
       "</table>\n",
       "</div>"
      ],
      "text/plain": [
       "  nomeRegiaoSaude  casosNovos  obitosNovos  populacaoTCU2019_int\n",
       "0    ZONA DA MATA           0            0               15852.0\n",
       "1    ZONA DA MATA           0            0               15852.0\n",
       "2    ZONA DA MATA           0            0               15852.0\n",
       "3    ZONA DA MATA           0            0               15852.0\n",
       "4    ZONA DA MATA           0            0               15852.0"
      ]
     },
     "execution_count": 19,
     "metadata": {},
     "output_type": "execute_result"
    }
   ],
   "source": [
    "regional = covid_work.loc[:, ['nomeRegiaoSaude','casosNovos','obitosNovos','populacaoTCU2019_int']]\n",
    "regional.head()"
   ]
  },
  {
   "cell_type": "code",
   "execution_count": 20,
   "metadata": {},
   "outputs": [
    {
     "data": {
      "text/plain": [
       "(385317, 4)"
      ]
     },
     "execution_count": 20,
     "metadata": {},
     "output_type": "execute_result"
    }
   ],
   "source": [
    "regional.shape"
   ]
  },
  {
   "cell_type": "code",
   "execution_count": 21,
   "metadata": {},
   "outputs": [
    {
     "data": {
      "text/html": [
       "<div>\n",
       "<style scoped>\n",
       "    .dataframe tbody tr th:only-of-type {\n",
       "        vertical-align: middle;\n",
       "    }\n",
       "\n",
       "    .dataframe tbody tr th {\n",
       "        vertical-align: top;\n",
       "    }\n",
       "\n",
       "    .dataframe thead th {\n",
       "        text-align: right;\n",
       "    }\n",
       "</style>\n",
       "<table border=\"1\" class=\"dataframe\">\n",
       "  <thead>\n",
       "    <tr style=\"text-align: right;\">\n",
       "      <th></th>\n",
       "      <th>casosNovos</th>\n",
       "      <th>obitosNovos</th>\n",
       "      <th>populacaoTCU2019_int</th>\n",
       "    </tr>\n",
       "    <tr>\n",
       "      <th>nomeRegiaoSaude</th>\n",
       "      <th></th>\n",
       "      <th></th>\n",
       "      <th></th>\n",
       "    </tr>\n",
       "  </thead>\n",
       "  <tbody>\n",
       "    <tr>\n",
       "      <th>10ª REGIAO</th>\n",
       "      <td>428</td>\n",
       "      <td>4</td>\n",
       "      <td>22328916.0</td>\n",
       "    </tr>\n",
       "    <tr>\n",
       "      <th>10ª REGIAO DE SAUDE</th>\n",
       "      <td>97</td>\n",
       "      <td>4</td>\n",
       "      <td>12251096.0</td>\n",
       "    </tr>\n",
       "    <tr>\n",
       "      <th>10ª REGIAO LIMOEIRO DO NORTE</th>\n",
       "      <td>1271</td>\n",
       "      <td>44</td>\n",
       "      <td>32734280.0</td>\n",
       "    </tr>\n",
       "    <tr>\n",
       "      <th>10ª RS CASCAVEL</th>\n",
       "      <td>1332</td>\n",
       "      <td>23</td>\n",
       "      <td>31539754.0</td>\n",
       "    </tr>\n",
       "    <tr>\n",
       "      <th>11ª REGIAO</th>\n",
       "      <td>66</td>\n",
       "      <td>3</td>\n",
       "      <td>14166805.0</td>\n",
       "    </tr>\n",
       "    <tr>\n",
       "      <th>11ª REGIAO SOBRAL</th>\n",
       "      <td>7199</td>\n",
       "      <td>283</td>\n",
       "      <td>64015569.0</td>\n",
       "    </tr>\n",
       "    <tr>\n",
       "      <th>11ª RS CAMPO MOURAO</th>\n",
       "      <td>170</td>\n",
       "      <td>12</td>\n",
       "      <td>55726566.0</td>\n",
       "    </tr>\n",
       "    <tr>\n",
       "      <th>12ª REGIAO</th>\n",
       "      <td>1941</td>\n",
       "      <td>21</td>\n",
       "      <td>40682862.0</td>\n",
       "    </tr>\n",
       "    <tr>\n",
       "      <th>12ª REGIAO ACARAU</th>\n",
       "      <td>3409</td>\n",
       "      <td>78</td>\n",
       "      <td>12397814.0</td>\n",
       "    </tr>\n",
       "    <tr>\n",
       "      <th>12ª RS UMUARAMA</th>\n",
       "      <td>94</td>\n",
       "      <td>1</td>\n",
       "      <td>11148904.0</td>\n",
       "    </tr>\n",
       "    <tr>\n",
       "      <th>13ª REGIAO</th>\n",
       "      <td>166</td>\n",
       "      <td>1</td>\n",
       "      <td>53951379.0</td>\n",
       "    </tr>\n",
       "    <tr>\n",
       "      <th>13ª REGIAO TIANGUA</th>\n",
       "      <td>1596</td>\n",
       "      <td>59</td>\n",
       "      <td>10072727.0</td>\n",
       "    </tr>\n",
       "    <tr>\n",
       "      <th>13ª RS CIANORTE</th>\n",
       "      <td>390</td>\n",
       "      <td>7</td>\n",
       "      <td>16220532.0</td>\n",
       "    </tr>\n",
       "    <tr>\n",
       "      <th>14ª REGIAO</th>\n",
       "      <td>1098</td>\n",
       "      <td>26</td>\n",
       "      <td>9891792.0</td>\n",
       "    </tr>\n",
       "    <tr>\n",
       "      <th>14ª REGIAO TAUA</th>\n",
       "      <td>477</td>\n",
       "      <td>18</td>\n",
       "      <td>4478029.0</td>\n",
       "    </tr>\n",
       "  </tbody>\n",
       "</table>\n",
       "</div>"
      ],
      "text/plain": [
       "                              casosNovos  obitosNovos  populacaoTCU2019_int\n",
       "nomeRegiaoSaude                                                            \n",
       "10ª REGIAO                           428            4            22328916.0\n",
       "10ª REGIAO DE SAUDE                   97            4            12251096.0\n",
       "10ª REGIAO LIMOEIRO DO NORTE        1271           44            32734280.0\n",
       "10ª RS CASCAVEL                     1332           23            31539754.0\n",
       "11ª REGIAO                            66            3            14166805.0\n",
       "11ª REGIAO SOBRAL                   7199          283            64015569.0\n",
       "11ª RS CAMPO MOURAO                  170           12            55726566.0\n",
       "12ª REGIAO                          1941           21            40682862.0\n",
       "12ª REGIAO ACARAU                   3409           78            12397814.0\n",
       "12ª RS UMUARAMA                       94            1            11148904.0\n",
       "13ª REGIAO                           166            1            53951379.0\n",
       "13ª REGIAO TIANGUA                  1596           59            10072727.0\n",
       "13ª RS CIANORTE                      390            7            16220532.0\n",
       "14ª REGIAO                          1098           26             9891792.0\n",
       "14ª REGIAO TAUA                      477           18             4478029.0"
      ]
     },
     "execution_count": 21,
     "metadata": {},
     "output_type": "execute_result"
    }
   ],
   "source": [
    "regional_saude = regional.groupby('nomeRegiaoSaude').sum() #Padrao: as_index=True\n",
    "regional_saude.head(15)"
   ]
  },
  {
   "cell_type": "code",
   "execution_count": 22,
   "metadata": {},
   "outputs": [
    {
     "data": {
      "text/plain": [
       "(440, 3)"
      ]
     },
     "execution_count": 22,
     "metadata": {},
     "output_type": "execute_result"
    }
   ],
   "source": [
    "regional_saude.shape"
   ]
  },
  {
   "cell_type": "code",
   "execution_count": 23,
   "metadata": {
    "scrolled": true
   },
   "outputs": [
    {
     "name": "stderr",
     "output_type": "stream",
     "text": [
      "<ipython-input-23-f1639a04a921>:5: SettingWithCopyWarning: \n",
      "A value is trying to be set on a copy of a slice from a DataFrame\n",
      "\n",
      "See the caveats in the documentation: https://pandas.pydata.org/pandas-docs/stable/user_guide/indexing.html#returning-a-view-versus-a-copy\n",
      "  regional_saude.letalidadeRegionalSaude[i] = regional_saude.obitosNovos[i] * 100 / regional_saude.casosNovos[i]\n"
     ]
    }
   ],
   "source": [
    "#letalidade por estado\n",
    "letalidadeRegionalSaude = [None] * regional_saude.shape[0]\n",
    "regional_saude['letalidadeRegionalSaude'] = letalidadeRegionalSaude\n",
    "for i in range(len(regional_saude)):\n",
    "    regional_saude.letalidadeRegionalSaude[i] = regional_saude.obitosNovos[i] * 100 / regional_saude.casosNovos[i]"
   ]
  },
  {
   "cell_type": "code",
   "execution_count": 24,
   "metadata": {},
   "outputs": [
    {
     "data": {
      "text/html": [
       "<div>\n",
       "<style scoped>\n",
       "    .dataframe tbody tr th:only-of-type {\n",
       "        vertical-align: middle;\n",
       "    }\n",
       "\n",
       "    .dataframe tbody tr th {\n",
       "        vertical-align: top;\n",
       "    }\n",
       "\n",
       "    .dataframe thead th {\n",
       "        text-align: right;\n",
       "    }\n",
       "</style>\n",
       "<table border=\"1\" class=\"dataframe\">\n",
       "  <thead>\n",
       "    <tr style=\"text-align: right;\">\n",
       "      <th></th>\n",
       "      <th>casosNovos</th>\n",
       "      <th>obitosNovos</th>\n",
       "      <th>populacaoTCU2019_int</th>\n",
       "      <th>letalidadeRegionalSaude</th>\n",
       "    </tr>\n",
       "    <tr>\n",
       "      <th>nomeRegiaoSaude</th>\n",
       "      <th></th>\n",
       "      <th></th>\n",
       "      <th></th>\n",
       "      <th></th>\n",
       "    </tr>\n",
       "  </thead>\n",
       "  <tbody>\n",
       "    <tr>\n",
       "      <th>10ª REGIAO</th>\n",
       "      <td>428</td>\n",
       "      <td>4</td>\n",
       "      <td>22328916.0</td>\n",
       "      <td>0.934579</td>\n",
       "    </tr>\n",
       "    <tr>\n",
       "      <th>10ª REGIAO DE SAUDE</th>\n",
       "      <td>97</td>\n",
       "      <td>4</td>\n",
       "      <td>12251096.0</td>\n",
       "      <td>4.12371</td>\n",
       "    </tr>\n",
       "    <tr>\n",
       "      <th>10ª REGIAO LIMOEIRO DO NORTE</th>\n",
       "      <td>1271</td>\n",
       "      <td>44</td>\n",
       "      <td>32734280.0</td>\n",
       "      <td>3.46184</td>\n",
       "    </tr>\n",
       "    <tr>\n",
       "      <th>10ª RS CASCAVEL</th>\n",
       "      <td>1332</td>\n",
       "      <td>23</td>\n",
       "      <td>31539754.0</td>\n",
       "      <td>1.72673</td>\n",
       "    </tr>\n",
       "    <tr>\n",
       "      <th>11ª REGIAO</th>\n",
       "      <td>66</td>\n",
       "      <td>3</td>\n",
       "      <td>14166805.0</td>\n",
       "      <td>4.54545</td>\n",
       "    </tr>\n",
       "  </tbody>\n",
       "</table>\n",
       "</div>"
      ],
      "text/plain": [
       "                              casosNovos  obitosNovos  populacaoTCU2019_int  \\\n",
       "nomeRegiaoSaude                                                               \n",
       "10ª REGIAO                           428            4            22328916.0   \n",
       "10ª REGIAO DE SAUDE                   97            4            12251096.0   \n",
       "10ª REGIAO LIMOEIRO DO NORTE        1271           44            32734280.0   \n",
       "10ª RS CASCAVEL                     1332           23            31539754.0   \n",
       "11ª REGIAO                            66            3            14166805.0   \n",
       "\n",
       "                             letalidadeRegionalSaude  \n",
       "nomeRegiaoSaude                                       \n",
       "10ª REGIAO                                  0.934579  \n",
       "10ª REGIAO DE SAUDE                          4.12371  \n",
       "10ª REGIAO LIMOEIRO DO NORTE                 3.46184  \n",
       "10ª RS CASCAVEL                              1.72673  \n",
       "11ª REGIAO                                   4.54545  "
      ]
     },
     "execution_count": 24,
     "metadata": {},
     "output_type": "execute_result"
    }
   ],
   "source": [
    "regional_saude.head()"
   ]
  },
  {
   "cell_type": "markdown",
   "metadata": {},
   "source": [
    "# SEABORN: Graficos de barras"
   ]
  },
  {
   "cell_type": "markdown",
   "metadata": {},
   "source": [
    "Existem seis variações do tema padrão, chamados ***deep, muted, pastel, bright, dark, e colorblind***."
   ]
  },
  {
   "cell_type": "markdown",
   "metadata": {},
   "source": [
    "## Por Região"
   ]
  },
  {
   "cell_type": "code",
   "execution_count": 25,
   "metadata": {},
   "outputs": [
    {
     "data": {
      "text/plain": [
       "regiao\n",
       "Centro-Oeste      789\n",
       "Sul               893\n",
       "Norte            7976\n",
       "Nordeste        14198\n",
       "Sudeste         20044\n",
       "Name: obitosNovos, dtype: int64"
      ]
     },
     "execution_count": 25,
     "metadata": {},
     "output_type": "execute_result"
    },
    {
     "data": {
      "image/png": "[encoded data removed]",
      "text/plain": [
       "<Figure size 720x504 with 1 Axes>"
      ]
     },
     "metadata": {},
     "output_type": "display_data"
    }
   ],
   "source": [
    "#OBTOS NOVOS POR REGIAO\n",
    "rg_obtos = regiao_group.obitosNovos.sort_values()\n",
    "\n",
    "sb.set(style=\"white\", context=\"talk\")\n",
    "\n",
    "f, eixo01 = plt.subplots(1, 1, figsize=(10, 7), sharex=True)\n",
    "\n",
    "sb.barplot(x=rg_obtos.index, y=rg_obtos, palette=\"rocket\", ax=eixo01)\n",
    "eixo01.axhline(0, color=\"k\", clip_on=False)\n",
    "eixo01.set_ylabel(\"Obtos Novos\")\n",
    "\n",
    "rg_obtos.head()"
   ]
  },
  {
   "cell_type": "code",
   "execution_count": 26,
   "metadata": {},
   "outputs": [
    {
     "data": {
      "text/plain": [
       "regiao\n",
       "Sul              38895\n",
       "Centro-Oeste     43528\n",
       "Norte           178695\n",
       "Sudeste         310870\n",
       "Nordeste        312912\n",
       "Name: casosNovos, dtype: int64"
      ]
     },
     "execution_count": 26,
     "metadata": {},
     "output_type": "execute_result"
    },
    {
     "data": {
      "image/png": "[encoded data removed]",
      "text/plain": [
       "<Figure size 720x504 with 1 Axes>"
      ]
     },
     "metadata": {},
     "output_type": "display_data"
    }
   ],
   "source": [
    "#CASOS NOVOS POR REGIAO\n",
    "rg_casos = regiao_group.casosNovos.sort_values()\n",
    "\n",
    "sb.set(style=\"white\", context=\"talk\")\n",
    "\n",
    "f, eixo01 = plt.subplots(1, 1, figsize=(10, 7), sharex=True)\n",
    "\n",
    "sb.barplot(x=rg_casos.index, y=rg_casos, palette=\"rocket\", ax=eixo01)\n",
    "eixo01.axhline(0, color=\"k\", clip_on=False)\n",
    "eixo01.set_ylabel(\"Obtos Novos\")\n",
    "eixo01.set_xlabel(\"Regiao\")\n",
    "\n",
    "rg_casos.head()"
   ]
  },
  {
   "cell_type": "code",
   "execution_count": 27,
   "metadata": {},
   "outputs": [
    {
     "data": {
      "text/plain": [
       "regiao\n",
       "Centro-Oeste    1.81263\n",
       "Sul             2.29592\n",
       "Norte           4.46347\n",
       "Nordeste        4.53738\n",
       "Sudeste         6.44771\n",
       "Name: regiaoLetalidade, dtype: object"
      ]
     },
     "execution_count": 27,
     "metadata": {},
     "output_type": "execute_result"
    },
    {
     "data": {
      "image/png": "[encoded data removed]",
      "text/plain": [
       "<Figure size 720x504 with 1 Axes>"
      ]
     },
     "metadata": {},
     "output_type": "display_data"
    }
   ],
   "source": [
    "#letaidade por regiao\n",
    "rg_letalidade = regiao_group.regiaoLetalidade.sort_values()\n",
    "\n",
    "sb.set(style=\"white\", context=\"talk\")\n",
    "\n",
    "f, eixo01 = plt.subplots(1, 1, figsize=(10, 7), sharex=True)\n",
    "\n",
    "sb.barplot(x=rg_letalidade.index, y=rg_letalidade, palette=\"rocket\", ax=eixo01)\n",
    "eixo01.axhline(0, color=\"k\", clip_on=False)\n",
    "eixo01.set_ylabel(\"Letalidade (%)\")\n",
    "eixo01.set_xlabel(\"Regiao\")\n",
    "\n",
    "rg_letalidade.head()"
   ]
  },
  {
   "cell_type": "markdown",
   "metadata": {},
   "source": [
    "## Por Estado"
   ]
  },
  {
   "cell_type": "markdown",
   "metadata": {},
   "source": [
    "**style** = white, dark, whitegrid, darkgrid, ticks"
   ]
  },
  {
   "cell_type": "markdown",
   "metadata": {},
   "source": [
    "**context** = paper, notebook, talk, poster"
   ]
  },
  {
   "cell_type": "code",
   "execution_count": 28,
   "metadata": {},
   "outputs": [
    {
     "data": {
      "text/plain": [
       "estado\n",
       "MS      3551\n",
       "MT      6115\n",
       "RR      6793\n",
       "TO      7137\n",
       "PR      9716\n",
       "AC      9771\n",
       "GO     10178\n",
       "PI     10357\n",
       "RO     12180\n",
       "SC     13741\n",
       "RN     14171\n",
       "RS     15438\n",
       "SE     15675\n",
       "AP     16813\n",
       "MG     21350\n",
       "AL     22880\n",
       "DF     23684\n",
       "ES     27217\n",
       "PB     28668\n",
       "BA     37449\n",
       "PE     45416\n",
       "AM     56777\n",
       "MA     60592\n",
       "PA     69224\n",
       "CE     77704\n",
       "RJ     80946\n",
       "SP    181357\n",
       "Name: casosNovos, dtype: int64"
      ]
     },
     "execution_count": 28,
     "metadata": {},
     "output_type": "execute_result"
    },
    {
     "data": {
      "image/png": "[encoded data removed]",
      "text/plain": [
       "<Figure size 1080x504 with 1 Axes>"
      ]
     },
     "metadata": {},
     "output_type": "display_data"
    }
   ],
   "source": [
    "#CASOS NOVOS POR ESTADO\n",
    "uf_casos = estado_group.casosNovos.sort_values()#padrao : ascending = True\n",
    "\n",
    "sb.set(style=\"darkgrid\", context=\"talk\")\n",
    "\n",
    "f, eixo01 = plt.subplots(1, 1, figsize=(15, 7), sharex=True)\n",
    "\n",
    "sb.barplot(x=uf_casos.index, y=uf_casos, palette=\"Greens\", ax=eixo01)\n",
    "eixo01.axhline(0, color=\"k\", clip_on=False)\n",
    "eixo01.set_ylabel(\"Obtos Novos\")\n",
    "eixo01.set_xlabel(\"Estado\")\n",
    "\n",
    "uf_casos.head(30)"
   ]
  },
  {
   "cell_type": "code",
   "execution_count": 29,
   "metadata": {},
   "outputs": [
    {
     "data": {
      "text/plain": [
       "estado\n",
       "SP    10767\n",
       "RJ     7728\n",
       "CE     4999\n",
       "PA     4201\n",
       "PE     3866\n",
       "AM     2512\n",
       "MA     1499\n",
       "BA     1141\n",
       "ES     1081\n",
       "AL      763\n",
       "PB      656\n",
       "RN      548\n",
       "MG      468\n",
       "PI      374\n",
       "RS      360\n",
       "SE      352\n",
       "PR      334\n",
       "RO      332\n",
       "AP      329\n",
       "DF      319\n",
       "AC      265\n",
       "GO      226\n",
       "MT      211\n",
       "RR      201\n",
       "SC      199\n",
       "TO      136\n",
       "MS       33\n",
       "Name: obitosNovos, dtype: int64"
      ]
     },
     "execution_count": 29,
     "metadata": {},
     "output_type": "execute_result"
    },
    {
     "data": {
      "image/png": "[encoded data removed]",
      "text/plain": [
       "<Figure size 1296x504 with 1 Axes>"
      ]
     },
     "metadata": {},
     "output_type": "display_data"
    }
   ],
   "source": [
    "#OBTOS NOVOS POR ESTADO\n",
    "uf_obtos = estado_group.obitosNovos.sort_values(ascending=False)\n",
    "\n",
    "sb.set(style=\"darkgrid\", context=\"talk\")\n",
    "\n",
    "f, eixo02 = plt.subplots(1, 1, figsize=(18,7), sharex=True)\n",
    "\n",
    "sb.barplot(x=uf_obtos.index, y=uf_obtos, palette=\"rocket\", ax=eixo02)\n",
    "eixo02.axhline(0, color=\"k\", clip_on=False)\n",
    "eixo02.set_ylabel(\"Obtos Novos\")\n",
    "\n",
    "uf_obtos.head(27)"
   ]
  },
  {
   "cell_type": "code",
   "execution_count": 32,
   "metadata": {},
   "outputs": [
    {
     "data": {
      "image/png": "[encoded data removed]",
      "text/plain": [
       "<Figure size 1440x720 with 1 Axes>"
      ]
     },
     "metadata": {},
     "output_type": "display_data"
    }
   ],
   "source": [
    "#letaidade por estado\n",
    "uf_letalidade = estado_group.letalidadeEstado.sort_values(ascending=True)\n",
    "\n",
    "tam = .8  # o tamanho das barras\n",
    "indice = [i for i in range(uf_letalidade.shape[0])]\n",
    "\n",
    "fig, ex = plt.subplots(1, 1, figsize=(20, 10), sharex=False) # ex = eixo X\n",
    "retangulo = ex.bar(indice, uf_letalidade, tam, label='(%)')\n",
    "\n",
    "# Adicione um pouco de texto para etiquetas, título e etiquetas personalizadas do eixo x, etc.\n",
    "ex.set_ylabel('Letalidade', fontsize=30) #rotation=0\n",
    "ex.set_title('Letalidade por Estado', fontsize=30)\n",
    "ex.set_xticks(indice)\n",
    "ex.set_xticklabels(uf_letalidade.index)\n",
    "ex.plot(c='red')\n",
    "ex.legend()\n",
    "\n",
    "def autolabel(retangulo):\n",
    "    \"\"\"Anexe um rótulo de texto acima de cada barra em * rotl *, exibindo sua altura.\"\"\"\n",
    "    for rect in retangulo:\n",
    "        altura = rect.get_height()\n",
    "        ex.annotate('{:.2f}%'.format(altura),\n",
    "                    xy=(rect.get_x() + rect.get_width(), altura),\n",
    "                    xytext=(5,10),  # 3 pontos verticais deslocamento\n",
    "                    textcoords=\"offset points\",\n",
    "                    fontsize=14,\n",
    "                    ha='right', va='bottom')\n",
    "                    #ha = 'center', 'right', 'left'\n",
    "                    #va = 'top', 'bottom', 'center', 'baseline', 'center_baseline'\n",
    "\n",
    "autolabel(retangulo)\n",
    "\n",
    "fig.tight_layout()\n",
    "plt.show()"
   ]
  },
  {
   "cell_type": "code",
   "execution_count": null,
   "metadata": {},
   "outputs": [],
   "source": []
  }
 ],
 "metadata": {
  "kernelspec": {
   "display_name": "Python 3",
   "language": "python",
   "name": "python3"
  },
  "language_info": {
   "codemirror_mode": {
    "name": "ipython",
    "version": 3
   },
   "file_extension": ".py",
   "mimetype": "text/x-python",
   "name": "python",
   "nbconvert_exporter": "python",
   "pygments_lexer": "ipython3",
   "version": "3.8.3"
  }
 },
 "nbformat": 4,
 "nbformat_minor": 4
}
