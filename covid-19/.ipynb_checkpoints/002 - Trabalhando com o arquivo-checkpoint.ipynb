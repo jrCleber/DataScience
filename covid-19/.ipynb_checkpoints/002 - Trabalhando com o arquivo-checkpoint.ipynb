{
 "cells": [
  {
   "cell_type": "code",
   "execution_count": 1,
   "metadata": {},
   "outputs": [],
   "source": [
    "#cmd: cd desktop/Git/DataScience/covid-19\n",
    "#activate py38\n",
    "#jupyter notebook"
   ]
  },
  {
   "cell_type": "code",
   "execution_count": 2,
   "metadata": {},
   "outputs": [],
   "source": [
    "from datetime import datetime as dt\n",
    "from pathlib import Path as path\n",
    "from ambiente import DSAmbiente"
   ]
  },
  {
   "cell_type": "code",
   "execution_count": 3,
   "metadata": {},
   "outputs": [],
   "source": [
    "from matplotlib import pyplot\n",
    "import seaborn as sb\n",
    "import pandas as pd"
   ]
  },
  {
   "cell_type": "code",
   "execution_count": 4,
   "metadata": {},
   "outputs": [],
   "source": [
    "from meta import Meta\n",
    "meta = Meta()\n",
    "meta.set_meta('__datetime__', dt(2020,6,16,9,53))\n",
    "meta.set_meta('__credits__',['CWOJR'])\n",
    "meta.set_meta('__author__', 'jrCleber')"
   ]
  },
  {
   "cell_type": "code",
   "execution_count": 5,
   "metadata": {},
   "outputs": [],
   "source": [
    "#instanciando objeto\n",
    "ab = DSAmbiente()"
   ]
  },
  {
   "cell_type": "code",
   "execution_count": 6,
   "metadata": {},
   "outputs": [
    {
     "name": "stdout",
     "output_type": "stream",
     "text": [
      "SELECIONE O DATASET:\n",
      "____________________________________________________________\n",
      "C:\\Users\\clebe\\Desktop\\Python\\Analises\\002 - Dados Preparados\n",
      "(0) para para o Dataset: hist_covid19br_2020-06-15.xlsx\n",
      "____________________________________________________________\n",
      "------------------------------------------------------------\n",
      "Escolha: 0\n"
     ]
    },
    {
     "data": {
      "text/plain": [
       "WindowsPath('C:/Users/clebe/Desktop/Python/Analises/002 - Dados Preparados/hist_covid19br_2020-06-15.xlsx')"
      ]
     },
     "execution_count": 6,
     "metadata": {},
     "output_type": "execute_result"
    }
   ],
   "source": [
    "#alocando path do dataset do ambiente de trabalhoe em uma variável\n",
    "covid_xlsx = ab.file_data_ambiente()\n",
    "covid_xlsx"
   ]
  },
  {
   "cell_type": "markdown",
   "metadata": {},
   "source": [
    "# Lendo arquiv hist_covid19br_2020-06-15.xlsx com pandas"
   ]
  },
  {
   "cell_type": "markdown",
   "metadata": {},
   "source": [
    "origem: https://covid.saude.gov.br/"
   ]
  },
  {
   "cell_type": "code",
   "execution_count": 7,
   "metadata": {},
   "outputs": [
    {
     "data": {
      "text/html": [
       "<div>\n",
       "<style scoped>\n",
       "    .dataframe tbody tr th:only-of-type {\n",
       "        vertical-align: middle;\n",
       "    }\n",
       "\n",
       "    .dataframe tbody tr th {\n",
       "        vertical-align: top;\n",
       "    }\n",
       "\n",
       "    .dataframe thead th {\n",
       "        text-align: right;\n",
       "    }\n",
       "</style>\n",
       "<table border=\"1\" class=\"dataframe\">\n",
       "  <thead>\n",
       "    <tr style=\"text-align: right;\">\n",
       "      <th></th>\n",
       "      <th>regiao</th>\n",
       "      <th>estado</th>\n",
       "      <th>municipio</th>\n",
       "      <th>coduf</th>\n",
       "      <th>codmun</th>\n",
       "      <th>codRegiaoSaude</th>\n",
       "      <th>nomeRegiaoSaude</th>\n",
       "      <th>data</th>\n",
       "      <th>semanaEpi</th>\n",
       "      <th>populacaoTCU2019</th>\n",
       "      <th>casosAcumulado</th>\n",
       "      <th>casosNovos</th>\n",
       "      <th>obitosAcumulado</th>\n",
       "      <th>obitosNovos</th>\n",
       "      <th>Recuperadosnovos</th>\n",
       "      <th>emAcompanhamentoNovos</th>\n",
       "    </tr>\n",
       "  </thead>\n",
       "  <tbody>\n",
       "    <tr>\n",
       "      <th>0</th>\n",
       "      <td>Brasil</td>\n",
       "      <td>NaN</td>\n",
       "      <td>NaN</td>\n",
       "      <td>76</td>\n",
       "      <td>NaN</td>\n",
       "      <td>NaN</td>\n",
       "      <td>NaN</td>\n",
       "      <td>2020-02-25</td>\n",
       "      <td>9</td>\n",
       "      <td>210147125</td>\n",
       "      <td>0</td>\n",
       "      <td>0</td>\n",
       "      <td>0</td>\n",
       "      <td>0</td>\n",
       "      <td>NaN</td>\n",
       "      <td>NaN</td>\n",
       "    </tr>\n",
       "    <tr>\n",
       "      <th>1</th>\n",
       "      <td>Brasil</td>\n",
       "      <td>NaN</td>\n",
       "      <td>NaN</td>\n",
       "      <td>76</td>\n",
       "      <td>NaN</td>\n",
       "      <td>NaN</td>\n",
       "      <td>NaN</td>\n",
       "      <td>2020-02-26</td>\n",
       "      <td>9</td>\n",
       "      <td>210147125</td>\n",
       "      <td>1</td>\n",
       "      <td>1</td>\n",
       "      <td>0</td>\n",
       "      <td>0</td>\n",
       "      <td>NaN</td>\n",
       "      <td>NaN</td>\n",
       "    </tr>\n",
       "    <tr>\n",
       "      <th>2</th>\n",
       "      <td>Brasil</td>\n",
       "      <td>NaN</td>\n",
       "      <td>NaN</td>\n",
       "      <td>76</td>\n",
       "      <td>NaN</td>\n",
       "      <td>NaN</td>\n",
       "      <td>NaN</td>\n",
       "      <td>2020-02-27</td>\n",
       "      <td>9</td>\n",
       "      <td>210147125</td>\n",
       "      <td>1</td>\n",
       "      <td>0</td>\n",
       "      <td>0</td>\n",
       "      <td>0</td>\n",
       "      <td>NaN</td>\n",
       "      <td>NaN</td>\n",
       "    </tr>\n",
       "    <tr>\n",
       "      <th>3</th>\n",
       "      <td>Brasil</td>\n",
       "      <td>NaN</td>\n",
       "      <td>NaN</td>\n",
       "      <td>76</td>\n",
       "      <td>NaN</td>\n",
       "      <td>NaN</td>\n",
       "      <td>NaN</td>\n",
       "      <td>2020-02-28</td>\n",
       "      <td>9</td>\n",
       "      <td>210147125</td>\n",
       "      <td>1</td>\n",
       "      <td>0</td>\n",
       "      <td>0</td>\n",
       "      <td>0</td>\n",
       "      <td>NaN</td>\n",
       "      <td>NaN</td>\n",
       "    </tr>\n",
       "    <tr>\n",
       "      <th>4</th>\n",
       "      <td>Brasil</td>\n",
       "      <td>NaN</td>\n",
       "      <td>NaN</td>\n",
       "      <td>76</td>\n",
       "      <td>NaN</td>\n",
       "      <td>NaN</td>\n",
       "      <td>NaN</td>\n",
       "      <td>2020-02-29</td>\n",
       "      <td>9</td>\n",
       "      <td>210147125</td>\n",
       "      <td>2</td>\n",
       "      <td>1</td>\n",
       "      <td>0</td>\n",
       "      <td>0</td>\n",
       "      <td>NaN</td>\n",
       "      <td>NaN</td>\n",
       "    </tr>\n",
       "  </tbody>\n",
       "</table>\n",
       "</div>"
      ],
      "text/plain": [
       "   regiao estado municipio  coduf  codmun  codRegiaoSaude nomeRegiaoSaude  \\\n",
       "0  Brasil    NaN       NaN     76     NaN             NaN             NaN   \n",
       "1  Brasil    NaN       NaN     76     NaN             NaN             NaN   \n",
       "2  Brasil    NaN       NaN     76     NaN             NaN             NaN   \n",
       "3  Brasil    NaN       NaN     76     NaN             NaN             NaN   \n",
       "4  Brasil    NaN       NaN     76     NaN             NaN             NaN   \n",
       "\n",
       "        data  semanaEpi populacaoTCU2019  casosAcumulado  casosNovos  \\\n",
       "0 2020-02-25          9        210147125               0           0   \n",
       "1 2020-02-26          9        210147125               1           1   \n",
       "2 2020-02-27          9        210147125               1           0   \n",
       "3 2020-02-28          9        210147125               1           0   \n",
       "4 2020-02-29          9        210147125               2           1   \n",
       "\n",
       "   obitosAcumulado  obitosNovos  Recuperadosnovos  emAcompanhamentoNovos  \n",
       "0                0            0               NaN                    NaN  \n",
       "1                0            0               NaN                    NaN  \n",
       "2                0            0               NaN                    NaN  \n",
       "3                0            0               NaN                    NaN  \n",
       "4                0            0               NaN                    NaN  "
      ]
     },
     "execution_count": 7,
     "metadata": {},
     "output_type": "execute_result"
    }
   ],
   "source": [
    "covid_dataframe = pd.read_excel(covid_xlsx)\n",
    "covid_dataframe.head()"
   ]
  },
  {
   "cell_type": "code",
   "execution_count": 8,
   "metadata": {},
   "outputs": [],
   "source": [
    "#sem alocar o path em uma variável\n",
    "#covid_dataframe = pd.read_excel(ab.file_data_ambiente())"
   ]
  },
  {
   "cell_type": "code",
   "execution_count": 9,
   "metadata": {},
   "outputs": [
    {
     "data": {
      "text/plain": [
       "regiao                        0\n",
       "estado                      112\n",
       "municipio                  4675\n",
       "coduf                         0\n",
       "codmun                     3136\n",
       "codRegiaoSaude             4675\n",
       "nomeRegiaoSaude            4675\n",
       "data                          0\n",
       "semanaEpi                     0\n",
       "populacaoTCU2019           1539\n",
       "casosAcumulado                0\n",
       "casosNovos                    0\n",
       "obitosAcumulado               0\n",
       "obitosNovos                   0\n",
       "Recuperadosnovos         389934\n",
       "emAcompanhamentoNovos    389934\n",
       "dtype: int64"
      ]
     },
     "execution_count": 9,
     "metadata": {},
     "output_type": "execute_result"
    }
   ],
   "source": [
    "#linhas nulas (NaN)\n",
    "covid_dataframe.isnull().sum()"
   ]
  },
  {
   "cell_type": "code",
   "execution_count": 10,
   "metadata": {},
   "outputs": [],
   "source": [
    "#enviando para analises as linhas com campos em branco da coluna municipio\n",
    "covid_isnull = covid_dataframe[covid_dataframe.municipio.isnull()]\n",
    "analise = path.home() / 'Desktop' / 'Python' / 'Analises' / '003 - Analises'\n",
    "name_null = 'null-lines-remove-from-hist_covid19br_2020-06-15.xlsx'\n",
    "covid_isnull.to_excel(analise/name_null, encoding='latin-1', index=False)"
   ]
  },
  {
   "cell_type": "code",
   "execution_count": 11,
   "metadata": {},
   "outputs": [],
   "source": [
    "#Removendo linhas onde o município é nullo\n",
    "covid_file = covid_dataframe[covid_dataframe.municipio.notnull()]"
   ]
  },
  {
   "cell_type": "code",
   "execution_count": 12,
   "metadata": {},
   "outputs": [
    {
     "data": {
      "text/plain": [
       "regiao                        0\n",
       "estado                        0\n",
       "municipio                     0\n",
       "coduf                         0\n",
       "codmun                        0\n",
       "codRegiaoSaude                0\n",
       "nomeRegiaoSaude               0\n",
       "data                          0\n",
       "semanaEpi                     0\n",
       "populacaoTCU2019              0\n",
       "casosAcumulado                0\n",
       "casosNovos                    0\n",
       "obitosAcumulado               0\n",
       "obitosNovos                   0\n",
       "Recuperadosnovos         385317\n",
       "emAcompanhamentoNovos    385317\n",
       "dtype: int64"
      ]
     },
     "execution_count": 12,
     "metadata": {},
     "output_type": "execute_result"
    }
   ],
   "source": [
    "covid_file.isnull().sum()"
   ]
  },
  {
   "cell_type": "code",
   "execution_count": 13,
   "metadata": {},
   "outputs": [],
   "source": [
    "#Selecionando colunas com as quais não iremos trabalhar\n",
    "colunas = ['regiao', 'estado', 'municipio', 'nomeRegiaoSaude', 'data', 'semanaEpi', 'casosNovos', 'obitosNovos', 'populacaoTCU2019']\n",
    "covid_work = covid_file.loc[:, colunas]"
   ]
  },
  {
   "cell_type": "code",
   "execution_count": 14,
   "metadata": {},
   "outputs": [
    {
     "data": {
      "text/html": [
       "<div>\n",
       "<style scoped>\n",
       "    .dataframe tbody tr th:only-of-type {\n",
       "        vertical-align: middle;\n",
       "    }\n",
       "\n",
       "    .dataframe tbody tr th {\n",
       "        vertical-align: top;\n",
       "    }\n",
       "\n",
       "    .dataframe thead th {\n",
       "        text-align: right;\n",
       "    }\n",
       "</style>\n",
       "<table border=\"1\" class=\"dataframe\">\n",
       "  <thead>\n",
       "    <tr style=\"text-align: right;\">\n",
       "      <th></th>\n",
       "      <th>regiao</th>\n",
       "      <th>estado</th>\n",
       "      <th>municipio</th>\n",
       "      <th>nomeRegiaoSaude</th>\n",
       "      <th>data</th>\n",
       "      <th>semanaEpi</th>\n",
       "      <th>casosNovos</th>\n",
       "      <th>obitosNovos</th>\n",
       "      <th>populacaoTCU2019</th>\n",
       "    </tr>\n",
       "  </thead>\n",
       "  <tbody>\n",
       "    <tr>\n",
       "      <th>3217</th>\n",
       "      <td>Norte</td>\n",
       "      <td>RO</td>\n",
       "      <td>Alta Floresta D'Oeste</td>\n",
       "      <td>ZONA DA MATA</td>\n",
       "      <td>2020-03-27</td>\n",
       "      <td>13</td>\n",
       "      <td>0</td>\n",
       "      <td>0</td>\n",
       "      <td>22945</td>\n",
       "    </tr>\n",
       "    <tr>\n",
       "      <th>3218</th>\n",
       "      <td>Norte</td>\n",
       "      <td>RO</td>\n",
       "      <td>Alta Floresta D'Oeste</td>\n",
       "      <td>ZONA DA MATA</td>\n",
       "      <td>2020-03-28</td>\n",
       "      <td>13</td>\n",
       "      <td>0</td>\n",
       "      <td>0</td>\n",
       "      <td>22945</td>\n",
       "    </tr>\n",
       "    <tr>\n",
       "      <th>3219</th>\n",
       "      <td>Norte</td>\n",
       "      <td>RO</td>\n",
       "      <td>Alta Floresta D'Oeste</td>\n",
       "      <td>ZONA DA MATA</td>\n",
       "      <td>2020-03-29</td>\n",
       "      <td>14</td>\n",
       "      <td>0</td>\n",
       "      <td>0</td>\n",
       "      <td>22945</td>\n",
       "    </tr>\n",
       "    <tr>\n",
       "      <th>3220</th>\n",
       "      <td>Norte</td>\n",
       "      <td>RO</td>\n",
       "      <td>Alta Floresta D'Oeste</td>\n",
       "      <td>ZONA DA MATA</td>\n",
       "      <td>2020-03-30</td>\n",
       "      <td>14</td>\n",
       "      <td>0</td>\n",
       "      <td>0</td>\n",
       "      <td>22945</td>\n",
       "    </tr>\n",
       "    <tr>\n",
       "      <th>3221</th>\n",
       "      <td>Norte</td>\n",
       "      <td>RO</td>\n",
       "      <td>Alta Floresta D'Oeste</td>\n",
       "      <td>ZONA DA MATA</td>\n",
       "      <td>2020-03-31</td>\n",
       "      <td>14</td>\n",
       "      <td>0</td>\n",
       "      <td>0</td>\n",
       "      <td>22945</td>\n",
       "    </tr>\n",
       "  </tbody>\n",
       "</table>\n",
       "</div>"
      ],
      "text/plain": [
       "     regiao estado              municipio nomeRegiaoSaude       data  \\\n",
       "3217  Norte     RO  Alta Floresta D'Oeste    ZONA DA MATA 2020-03-27   \n",
       "3218  Norte     RO  Alta Floresta D'Oeste    ZONA DA MATA 2020-03-28   \n",
       "3219  Norte     RO  Alta Floresta D'Oeste    ZONA DA MATA 2020-03-29   \n",
       "3220  Norte     RO  Alta Floresta D'Oeste    ZONA DA MATA 2020-03-30   \n",
       "3221  Norte     RO  Alta Floresta D'Oeste    ZONA DA MATA 2020-03-31   \n",
       "\n",
       "      semanaEpi  casosNovos  obitosNovos populacaoTCU2019  \n",
       "3217         13           0            0            22945  \n",
       "3218         13           0            0            22945  \n",
       "3219         14           0            0            22945  \n",
       "3220         14           0            0            22945  \n",
       "3221         14           0            0            22945  "
      ]
     },
     "execution_count": 14,
     "metadata": {},
     "output_type": "execute_result"
    }
   ],
   "source": [
    "covid_work.head()"
   ]
  },
  {
   "cell_type": "code",
   "execution_count": 15,
   "metadata": {},
   "outputs": [
    {
     "data": {
      "text/plain": [
       "regiao                      object\n",
       "estado                      object\n",
       "municipio                   object\n",
       "nomeRegiaoSaude             object\n",
       "data                datetime64[ns]\n",
       "semanaEpi                    int64\n",
       "casosNovos                   int64\n",
       "obitosNovos                  int64\n",
       "populacaoTCU2019            object\n",
       "dtype: object"
      ]
     },
     "execution_count": 15,
     "metadata": {},
     "output_type": "execute_result"
    }
   ],
   "source": [
    "covid_work.dtypes"
   ]
  },
  {
   "cell_type": "markdown",
   "metadata": {},
   "source": [
    "# Convertendo populacaoTCU2019 em int "
   ]
  },
  {
   "cell_type": "code",
   "execution_count": 16,
   "metadata": {},
   "outputs": [],
   "source": [
    "#escapando o (.) ponto e o removendo\n",
    "covid_work.populacaoTCU2019 = covid_work.populacaoTCU2019.str.replace(r\"\\.\", \"\")"
   ]
  },
  {
   "cell_type": "code",
   "execution_count": 17,
   "metadata": {},
   "outputs": [],
   "source": [
    "#escapando o ( ) espaço e o removendo\n",
    "covid_work.populacaoTCU2019 = covid_work.populacaoTCU2019.str.replace(r\"\\ \", \"\")"
   ]
  },
  {
   "cell_type": "code",
   "execution_count": 18,
   "metadata": {},
   "outputs": [],
   "source": [
    "#removendo caracteres implementados pelo TCU na string \n",
    "populacaoTCU2019_int = []\n",
    "for populacao in covid_work.populacaoTCU2019:\n",
    "    pop_list = list(populacao)\n",
    "    i = 0\n",
    "    for x in range(len(pop_list)):\n",
    "        if pop_list[x] == \"(\":\n",
    "            i = x\n",
    "    if \"(\" in pop_list:\n",
    "        del(pop_list[i:])\n",
    "    pop = ''\n",
    "    for x in range(len(pop_list)):\n",
    "        pop = pop + pop_list[x]\n",
    "    #Convertendo para inteiro\n",
    "    populacaoTCU2019_int.append(int(pop))"
   ]
  },
  {
   "cell_type": "code",
   "execution_count": 19,
   "metadata": {},
   "outputs": [
    {
     "data": {
      "text/plain": [
       "int"
      ]
     },
     "execution_count": 19,
     "metadata": {},
     "output_type": "execute_result"
    }
   ],
   "source": [
    "type(populacaoTCU2019_int[0])"
   ]
  },
  {
   "cell_type": "code",
   "execution_count": 20,
   "metadata": {},
   "outputs": [],
   "source": [
    "#adicionando a coluna convertida no dataframe\n",
    "covid_work['populacaoTCU2019_int'] = pd.Series(populacaoTCU2019_int)"
   ]
  },
  {
   "cell_type": "code",
   "execution_count": 21,
   "metadata": {},
   "outputs": [
    {
     "data": {
      "text/plain": [
       "regiao                          object\n",
       "estado                          object\n",
       "municipio                       object\n",
       "nomeRegiaoSaude                 object\n",
       "data                    datetime64[ns]\n",
       "semanaEpi                        int64\n",
       "casosNovos                       int64\n",
       "obitosNovos                      int64\n",
       "populacaoTCU2019                object\n",
       "populacaoTCU2019_int           float64\n",
       "dtype: object"
      ]
     },
     "execution_count": 21,
     "metadata": {},
     "output_type": "execute_result"
    }
   ],
   "source": [
    "covid_work.dtypes"
   ]
  },
  {
   "cell_type": "code",
   "execution_count": 22,
   "metadata": {},
   "outputs": [],
   "source": [
    "#Deletado coluna 'populacaoTCU2019' do tipo 'object' do DataFrame\n",
    "covid_work.drop('populacaoTCU2019', axis=1, inplace=True)"
   ]
  },
  {
   "cell_type": "code",
   "execution_count": 23,
   "metadata": {},
   "outputs": [
    {
     "data": {
      "text/html": [
       "<div>\n",
       "<style scoped>\n",
       "    .dataframe tbody tr th:only-of-type {\n",
       "        vertical-align: middle;\n",
       "    }\n",
       "\n",
       "    .dataframe tbody tr th {\n",
       "        vertical-align: top;\n",
       "    }\n",
       "\n",
       "    .dataframe thead th {\n",
       "        text-align: right;\n",
       "    }\n",
       "</style>\n",
       "<table border=\"1\" class=\"dataframe\">\n",
       "  <thead>\n",
       "    <tr style=\"text-align: right;\">\n",
       "      <th></th>\n",
       "      <th>regiao</th>\n",
       "      <th>estado</th>\n",
       "      <th>municipio</th>\n",
       "      <th>nomeRegiaoSaude</th>\n",
       "      <th>data</th>\n",
       "      <th>semanaEpi</th>\n",
       "      <th>casosNovos</th>\n",
       "      <th>obitosNovos</th>\n",
       "      <th>populacaoTCU2019_int</th>\n",
       "    </tr>\n",
       "  </thead>\n",
       "  <tbody>\n",
       "    <tr>\n",
       "      <th>3217</th>\n",
       "      <td>Norte</td>\n",
       "      <td>RO</td>\n",
       "      <td>Alta Floresta D'Oeste</td>\n",
       "      <td>ZONA DA MATA</td>\n",
       "      <td>2020-03-27</td>\n",
       "      <td>13</td>\n",
       "      <td>0</td>\n",
       "      <td>0</td>\n",
       "      <td>15852.0</td>\n",
       "    </tr>\n",
       "    <tr>\n",
       "      <th>3218</th>\n",
       "      <td>Norte</td>\n",
       "      <td>RO</td>\n",
       "      <td>Alta Floresta D'Oeste</td>\n",
       "      <td>ZONA DA MATA</td>\n",
       "      <td>2020-03-28</td>\n",
       "      <td>13</td>\n",
       "      <td>0</td>\n",
       "      <td>0</td>\n",
       "      <td>15852.0</td>\n",
       "    </tr>\n",
       "    <tr>\n",
       "      <th>3219</th>\n",
       "      <td>Norte</td>\n",
       "      <td>RO</td>\n",
       "      <td>Alta Floresta D'Oeste</td>\n",
       "      <td>ZONA DA MATA</td>\n",
       "      <td>2020-03-29</td>\n",
       "      <td>14</td>\n",
       "      <td>0</td>\n",
       "      <td>0</td>\n",
       "      <td>15852.0</td>\n",
       "    </tr>\n",
       "    <tr>\n",
       "      <th>3220</th>\n",
       "      <td>Norte</td>\n",
       "      <td>RO</td>\n",
       "      <td>Alta Floresta D'Oeste</td>\n",
       "      <td>ZONA DA MATA</td>\n",
       "      <td>2020-03-30</td>\n",
       "      <td>14</td>\n",
       "      <td>0</td>\n",
       "      <td>0</td>\n",
       "      <td>15852.0</td>\n",
       "    </tr>\n",
       "    <tr>\n",
       "      <th>3221</th>\n",
       "      <td>Norte</td>\n",
       "      <td>RO</td>\n",
       "      <td>Alta Floresta D'Oeste</td>\n",
       "      <td>ZONA DA MATA</td>\n",
       "      <td>2020-03-31</td>\n",
       "      <td>14</td>\n",
       "      <td>0</td>\n",
       "      <td>0</td>\n",
       "      <td>15852.0</td>\n",
       "    </tr>\n",
       "  </tbody>\n",
       "</table>\n",
       "</div>"
      ],
      "text/plain": [
       "     regiao estado              municipio nomeRegiaoSaude       data  \\\n",
       "3217  Norte     RO  Alta Floresta D'Oeste    ZONA DA MATA 2020-03-27   \n",
       "3218  Norte     RO  Alta Floresta D'Oeste    ZONA DA MATA 2020-03-28   \n",
       "3219  Norte     RO  Alta Floresta D'Oeste    ZONA DA MATA 2020-03-29   \n",
       "3220  Norte     RO  Alta Floresta D'Oeste    ZONA DA MATA 2020-03-30   \n",
       "3221  Norte     RO  Alta Floresta D'Oeste    ZONA DA MATA 2020-03-31   \n",
       "\n",
       "      semanaEpi  casosNovos  obitosNovos  populacaoTCU2019_int  \n",
       "3217         13           0            0               15852.0  \n",
       "3218         13           0            0               15852.0  \n",
       "3219         14           0            0               15852.0  \n",
       "3220         14           0            0               15852.0  \n",
       "3221         14           0            0               15852.0  "
      ]
     },
     "execution_count": 23,
     "metadata": {},
     "output_type": "execute_result"
    }
   ],
   "source": [
    "covid_work.head()"
   ]
  },
  {
   "cell_type": "code",
   "execution_count": 24,
   "metadata": {},
   "outputs": [],
   "source": [
    "#exportando Dataframe para dados preparados\n",
    "preparados = path.home() / 'Desktop' / 'Python' / 'Analises' / '002 - Dados Preparados'\n",
    "name_work = 'covid_work_2020-06-16.xlsx'\n",
    "covid_work.to_excel(preparados/name_work, encoding='latin-1', index=False)"
   ]
  },
  {
   "cell_type": "code",
   "execution_count": null,
   "metadata": {},
   "outputs": [],
   "source": []
  }
 ],
 "metadata": {
  "kernelspec": {
   "display_name": "Python 3",
   "language": "python",
   "name": "python3"
  },
  "language_info": {
   "codemirror_mode": {
    "name": "ipython",
    "version": 3
   },
   "file_extension": ".py",
   "mimetype": "text/x-python",
   "name": "python",
   "nbconvert_exporter": "python",
   "pygments_lexer": "ipython3",
   "version": "3.8.3"
  }
 },
 "nbformat": 4,
 "nbformat_minor": 4
}
