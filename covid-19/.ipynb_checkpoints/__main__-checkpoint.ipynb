{
 "cells": [
  {
   "cell_type": "code",
   "execution_count": 1,
   "metadata": {},
   "outputs": [],
   "source": [
    "#cmd: cd..//..//users/cleber/desktop/python\n",
    "#activate py38\n",
    "#jupyter notebook"
   ]
  },
  {
   "cell_type": "markdown",
   "metadata": {},
   "source": [
    "# Importando Modulos e criando ambiente"
   ]
  },
  {
   "cell_type": "code",
   "execution_count": 2,
   "metadata": {},
   "outputs": [],
   "source": [
    "from pathlib import Path as path\n",
    "from ambiente import DSAmbiente\n",
    "from meta import Meta\n",
    "from datetime import datetime as dt"
   ]
  },
  {
   "cell_type": "code",
   "execution_count": 3,
   "metadata": {},
   "outputs": [],
   "source": [
    "import seaborn as sb\n",
    "import pandas as pd\n",
    "import numpy as np\n",
    "from matplotlib import pyplot as plt"
   ]
  },
  {
   "cell_type": "code",
   "execution_count": 4,
   "metadata": {},
   "outputs": [],
   "source": [
    "meta = Meta()"
   ]
  },
  {
   "cell_type": "code",
   "execution_count": 5,
   "metadata": {},
   "outputs": [],
   "source": [
    "meta.set_meta('__datetime__', dt(2020,6,14,9,51))"
   ]
  },
  {
   "cell_type": "code",
   "execution_count": 6,
   "metadata": {},
   "outputs": [],
   "source": [
    "meta.set_meta('__credits__',['CWOJR'])"
   ]
  },
  {
   "cell_type": "code",
   "execution_count": 7,
   "metadata": {},
   "outputs": [],
   "source": [
    "meta.set_meta('__author__', 'jrCleber')"
   ]
  },
  {
   "cell_type": "markdown",
   "metadata": {},
   "source": [
    "# Criando ambiente para trabalhar com Dataset"
   ]
  },
  {
   "cell_type": "code",
   "execution_count": 8,
   "metadata": {},
   "outputs": [],
   "source": [
    "#local do arquivo de dados\n",
    "dataset = path.home() / 'Desktop' / 'Python' / 'Analises'/ '_datasets_'"
   ]
  },
  {
   "cell_type": "code",
   "execution_count": 9,
   "metadata": {},
   "outputs": [],
   "source": [
    "#instanciando objeto\n",
    "ab = DSAmbiente()"
   ]
  },
  {
   "cell_type": "code",
   "execution_count": 10,
   "metadata": {},
   "outputs": [
    {
     "name": "stdout",
     "output_type": "stream",
     "text": [
      "SELECIONE O DATASET:\n",
      "____________________________________________________________\n",
      "C:\\Users\\clebe\\Desktop\\Python\\Analises\\_datasets_\n",
      "(0) para para o Dataset: hist_covid19br_2020-06-14.xlsx\n",
      "(1) para para o Dataset: hist_covid19br_2020.xlsx\n",
      "(2) para para o Dataset: USD_BRL_2019.csv\n",
      "(3) para para o Dataset: USD_BRL_2020.csv\n",
      "(4) para para o Dataset: WHO-COVID-19-global-data.csv\n",
      "____________________________________________________________\n",
      "------------------------------------------------------------\n",
      "Escolha: 0\n"
     ]
    },
    {
     "data": {
      "text/plain": [
       "WindowsPath('C:/Users/clebe/Desktop/Python/Analises/_datasets_/hist_covid19br_2020-06-14.xlsx')"
      ]
     },
     "execution_count": 10,
     "metadata": {},
     "output_type": "execute_result"
    }
   ],
   "source": [
    "#alocando path do dataset em uma variável\n",
    "if path(dataset).exists():\n",
    "    file = ab.local_file(dataset)\n",
    "file"
   ]
  },
  {
   "cell_type": "code",
   "execution_count": 11,
   "metadata": {},
   "outputs": [
    {
     "name": "stdout",
     "output_type": "stream",
     "text": [
      "Ambiente criado com sucesso em: \n",
      " C:\\Users\\clebe\\Desktop\\Python\\Analises\n"
     ]
    }
   ],
   "source": [
    "#construindo ambiente\n",
    "ab.construcao(file)"
   ]
  },
  {
   "cell_type": "code",
   "execution_count": 12,
   "metadata": {},
   "outputs": [
    {
     "name": "stdout",
     "output_type": "stream",
     "text": [
      "SELECIONE O DATASET:\n",
      "____________________________________________________________\n",
      "C:\\Users\\clebe\\Desktop\\Python\\Analises\\002 - Dados Preparados\n",
      "(0) para para o Dataset: covid_work.xlsx\n",
      "(1) para para o Dataset: hist_covid19br_2020-06-14.xlsx\n",
      "____________________________________________________________\n",
      "------------------------------------------------------------\n",
      "Escolha: 1\n"
     ]
    },
    {
     "data": {
      "text/plain": [
       "WindowsPath('C:/Users/clebe/Desktop/Python/Analises/002 - Dados Preparados/hist_covid19br_2020-06-14.xlsx')"
      ]
     },
     "execution_count": 12,
     "metadata": {},
     "output_type": "execute_result"
    }
   ],
   "source": [
    "#alocando path do ambiente de trabalhoe em uma variável\n",
    "covid_xlsx = ab.file_data_ambiente()\n",
    "covid_xlsx"
   ]
  },
  {
   "cell_type": "markdown",
   "metadata": {},
   "source": [
    "# Lendo arquiv COVID-19 com pandas"
   ]
  },
  {
   "cell_type": "markdown",
   "metadata": {},
   "source": [
    "https://covid.saude.gov.br/"
   ]
  },
  {
   "cell_type": "code",
   "execution_count": 13,
   "metadata": {},
   "outputs": [
    {
     "data": {
      "text/html": [
       "<div>\n",
       "<style scoped>\n",
       "    .dataframe tbody tr th:only-of-type {\n",
       "        vertical-align: middle;\n",
       "    }\n",
       "\n",
       "    .dataframe tbody tr th {\n",
       "        vertical-align: top;\n",
       "    }\n",
       "\n",
       "    .dataframe thead th {\n",
       "        text-align: right;\n",
       "    }\n",
       "</style>\n",
       "<table border=\"1\" class=\"dataframe\">\n",
       "  <thead>\n",
       "    <tr style=\"text-align: right;\">\n",
       "      <th></th>\n",
       "      <th>regiao</th>\n",
       "      <th>estado</th>\n",
       "      <th>municipio</th>\n",
       "      <th>coduf</th>\n",
       "      <th>codmun</th>\n",
       "      <th>codRegiaoSaude</th>\n",
       "      <th>nomeRegiaoSaude</th>\n",
       "      <th>data</th>\n",
       "      <th>semanaEpi</th>\n",
       "      <th>populacaoTCU2019</th>\n",
       "      <th>casosAcumulado</th>\n",
       "      <th>casosNovos</th>\n",
       "      <th>obitosAcumulado</th>\n",
       "      <th>obitosNovos</th>\n",
       "      <th>Recuperadosnovos</th>\n",
       "      <th>emAcompanhamentoNovos</th>\n",
       "    </tr>\n",
       "  </thead>\n",
       "  <tbody>\n",
       "    <tr>\n",
       "      <th>0</th>\n",
       "      <td>Brasil</td>\n",
       "      <td>NaN</td>\n",
       "      <td>NaN</td>\n",
       "      <td>76</td>\n",
       "      <td>NaN</td>\n",
       "      <td>NaN</td>\n",
       "      <td>NaN</td>\n",
       "      <td>2020-02-25</td>\n",
       "      <td>9</td>\n",
       "      <td>210147125</td>\n",
       "      <td>0</td>\n",
       "      <td>0</td>\n",
       "      <td>0</td>\n",
       "      <td>0</td>\n",
       "      <td>NaN</td>\n",
       "      <td>NaN</td>\n",
       "    </tr>\n",
       "    <tr>\n",
       "      <th>1</th>\n",
       "      <td>Brasil</td>\n",
       "      <td>NaN</td>\n",
       "      <td>NaN</td>\n",
       "      <td>76</td>\n",
       "      <td>NaN</td>\n",
       "      <td>NaN</td>\n",
       "      <td>NaN</td>\n",
       "      <td>2020-02-26</td>\n",
       "      <td>9</td>\n",
       "      <td>210147125</td>\n",
       "      <td>1</td>\n",
       "      <td>1</td>\n",
       "      <td>0</td>\n",
       "      <td>0</td>\n",
       "      <td>NaN</td>\n",
       "      <td>NaN</td>\n",
       "    </tr>\n",
       "    <tr>\n",
       "      <th>2</th>\n",
       "      <td>Brasil</td>\n",
       "      <td>NaN</td>\n",
       "      <td>NaN</td>\n",
       "      <td>76</td>\n",
       "      <td>NaN</td>\n",
       "      <td>NaN</td>\n",
       "      <td>NaN</td>\n",
       "      <td>2020-02-27</td>\n",
       "      <td>9</td>\n",
       "      <td>210147125</td>\n",
       "      <td>1</td>\n",
       "      <td>0</td>\n",
       "      <td>0</td>\n",
       "      <td>0</td>\n",
       "      <td>NaN</td>\n",
       "      <td>NaN</td>\n",
       "    </tr>\n",
       "    <tr>\n",
       "      <th>3</th>\n",
       "      <td>Brasil</td>\n",
       "      <td>NaN</td>\n",
       "      <td>NaN</td>\n",
       "      <td>76</td>\n",
       "      <td>NaN</td>\n",
       "      <td>NaN</td>\n",
       "      <td>NaN</td>\n",
       "      <td>2020-02-28</td>\n",
       "      <td>9</td>\n",
       "      <td>210147125</td>\n",
       "      <td>1</td>\n",
       "      <td>0</td>\n",
       "      <td>0</td>\n",
       "      <td>0</td>\n",
       "      <td>NaN</td>\n",
       "      <td>NaN</td>\n",
       "    </tr>\n",
       "    <tr>\n",
       "      <th>4</th>\n",
       "      <td>Brasil</td>\n",
       "      <td>NaN</td>\n",
       "      <td>NaN</td>\n",
       "      <td>76</td>\n",
       "      <td>NaN</td>\n",
       "      <td>NaN</td>\n",
       "      <td>NaN</td>\n",
       "      <td>2020-02-29</td>\n",
       "      <td>9</td>\n",
       "      <td>210147125</td>\n",
       "      <td>2</td>\n",
       "      <td>1</td>\n",
       "      <td>0</td>\n",
       "      <td>0</td>\n",
       "      <td>NaN</td>\n",
       "      <td>NaN</td>\n",
       "    </tr>\n",
       "  </tbody>\n",
       "</table>\n",
       "</div>"
      ],
      "text/plain": [
       "   regiao estado municipio  coduf  codmun  codRegiaoSaude nomeRegiaoSaude  \\\n",
       "0  Brasil    NaN       NaN     76     NaN             NaN             NaN   \n",
       "1  Brasil    NaN       NaN     76     NaN             NaN             NaN   \n",
       "2  Brasil    NaN       NaN     76     NaN             NaN             NaN   \n",
       "3  Brasil    NaN       NaN     76     NaN             NaN             NaN   \n",
       "4  Brasil    NaN       NaN     76     NaN             NaN             NaN   \n",
       "\n",
       "        data  semanaEpi populacaoTCU2019  casosAcumulado  casosNovos  \\\n",
       "0 2020-02-25          9        210147125               0           0   \n",
       "1 2020-02-26          9        210147125               1           1   \n",
       "2 2020-02-27          9        210147125               1           0   \n",
       "3 2020-02-28          9        210147125               1           0   \n",
       "4 2020-02-29          9        210147125               2           1   \n",
       "\n",
       "   obitosAcumulado  obitosNovos  Recuperadosnovos  emAcompanhamentoNovos  \n",
       "0                0            0               NaN                    NaN  \n",
       "1                0            0               NaN                    NaN  \n",
       "2                0            0               NaN                    NaN  \n",
       "3                0            0               NaN                    NaN  \n",
       "4                0            0               NaN                    NaN  "
      ]
     },
     "execution_count": 13,
     "metadata": {},
     "output_type": "execute_result"
    }
   ],
   "source": [
    "covid_dataframe = pd.read_excel(covid_xlsx)\n",
    "covid_dataframe.head()"
   ]
  },
  {
   "cell_type": "code",
   "execution_count": 14,
   "metadata": {},
   "outputs": [],
   "source": [
    "#sem alocar o path em uma variável\n",
    "#covid_dataframe = pd.read_excel(ab.file_data_ambiente())"
   ]
  },
  {
   "cell_type": "code",
   "execution_count": 15,
   "metadata": {},
   "outputs": [
    {
     "data": {
      "text/plain": [
       "regiao                        0\n",
       "estado                      109\n",
       "municipio                  4534\n",
       "coduf                         0\n",
       "codmun                     3052\n",
       "codRegiaoSaude             4534\n",
       "nomeRegiaoSaude            4534\n",
       "data                          0\n",
       "semanaEpi                     0\n",
       "populacaoTCU2019           1482\n",
       "casosAcumulado                0\n",
       "casosNovos                    0\n",
       "obitosAcumulado               0\n",
       "obitosNovos                   0\n",
       "Recuperadosnovos         371625\n",
       "emAcompanhamentoNovos    371625\n",
       "dtype: int64"
      ]
     },
     "execution_count": 15,
     "metadata": {},
     "output_type": "execute_result"
    }
   ],
   "source": [
    "#linhas nulas (NaN)\n",
    "covid_dataframe.isnull().sum()"
   ]
  },
  {
   "cell_type": "code",
   "execution_count": 16,
   "metadata": {},
   "outputs": [],
   "source": [
    "#enviando para analises as linhas com campos em branco da coluna municipio\n",
    "covid_isnull = covid_dataframe[covid_dataframe.municipio.isnull()]\n",
    "analise = path.home() / 'Desktop' / 'Python' / 'Analises' / '003 - Analises'\n",
    "name_null = 'null-lines-remove.xlsx'\n",
    "covid_isnull.to_excel(analise/name_null, encoding='latin-1', index=False)"
   ]
  },
  {
   "cell_type": "code",
   "execution_count": 17,
   "metadata": {},
   "outputs": [],
   "source": [
    "#Removendo linhas onde o município é nullo\n",
    "covid_file = covid_dataframe[covid_dataframe.municipio.notnull()]"
   ]
  },
  {
   "cell_type": "code",
   "execution_count": 18,
   "metadata": {},
   "outputs": [
    {
     "data": {
      "text/plain": [
       "regiao                        0\n",
       "estado                        0\n",
       "municipio                     0\n",
       "coduf                         0\n",
       "codmun                        0\n",
       "codRegiaoSaude                0\n",
       "nomeRegiaoSaude               0\n",
       "data                          0\n",
       "semanaEpi                     0\n",
       "populacaoTCU2019              0\n",
       "casosAcumulado                0\n",
       "casosNovos                    0\n",
       "obitosAcumulado               0\n",
       "obitosNovos                   0\n",
       "Recuperadosnovos         367146\n",
       "emAcompanhamentoNovos    367146\n",
       "dtype: int64"
      ]
     },
     "execution_count": 18,
     "metadata": {},
     "output_type": "execute_result"
    }
   ],
   "source": [
    "covid_file.isnull().sum()"
   ]
  },
  {
   "cell_type": "code",
   "execution_count": 19,
   "metadata": {},
   "outputs": [],
   "source": [
    "#Selecionando colunas com as quais não iremos trabalhar\n",
    "colunas = ['regiao', 'estado', 'municipio', 'nomeRegiaoSaude', 'data', 'semanaEpi', 'casosNovos', 'obitosNovos', 'populacaoTCU2019']\n",
    "covid_work = covid_file.loc[:, colunas]"
   ]
  },
  {
   "cell_type": "code",
   "execution_count": 20,
   "metadata": {},
   "outputs": [
    {
     "data": {
      "text/html": [
       "<div>\n",
       "<style scoped>\n",
       "    .dataframe tbody tr th:only-of-type {\n",
       "        vertical-align: middle;\n",
       "    }\n",
       "\n",
       "    .dataframe tbody tr th {\n",
       "        vertical-align: top;\n",
       "    }\n",
       "\n",
       "    .dataframe thead th {\n",
       "        text-align: right;\n",
       "    }\n",
       "</style>\n",
       "<table border=\"1\" class=\"dataframe\">\n",
       "  <thead>\n",
       "    <tr style=\"text-align: right;\">\n",
       "      <th></th>\n",
       "      <th>regiao</th>\n",
       "      <th>estado</th>\n",
       "      <th>municipio</th>\n",
       "      <th>nomeRegiaoSaude</th>\n",
       "      <th>data</th>\n",
       "      <th>semanaEpi</th>\n",
       "      <th>casosNovos</th>\n",
       "      <th>obitosNovos</th>\n",
       "      <th>populacaoTCU2019</th>\n",
       "    </tr>\n",
       "  </thead>\n",
       "  <tbody>\n",
       "    <tr>\n",
       "      <th>3130</th>\n",
       "      <td>Norte</td>\n",
       "      <td>RO</td>\n",
       "      <td>Alta Floresta D'Oeste</td>\n",
       "      <td>ZONA DA MATA</td>\n",
       "      <td>2020-03-27</td>\n",
       "      <td>13</td>\n",
       "      <td>0</td>\n",
       "      <td>0</td>\n",
       "      <td>22945</td>\n",
       "    </tr>\n",
       "    <tr>\n",
       "      <th>3131</th>\n",
       "      <td>Norte</td>\n",
       "      <td>RO</td>\n",
       "      <td>Alta Floresta D'Oeste</td>\n",
       "      <td>ZONA DA MATA</td>\n",
       "      <td>2020-03-28</td>\n",
       "      <td>13</td>\n",
       "      <td>0</td>\n",
       "      <td>0</td>\n",
       "      <td>22945</td>\n",
       "    </tr>\n",
       "    <tr>\n",
       "      <th>3132</th>\n",
       "      <td>Norte</td>\n",
       "      <td>RO</td>\n",
       "      <td>Alta Floresta D'Oeste</td>\n",
       "      <td>ZONA DA MATA</td>\n",
       "      <td>2020-03-29</td>\n",
       "      <td>14</td>\n",
       "      <td>0</td>\n",
       "      <td>0</td>\n",
       "      <td>22945</td>\n",
       "    </tr>\n",
       "    <tr>\n",
       "      <th>3133</th>\n",
       "      <td>Norte</td>\n",
       "      <td>RO</td>\n",
       "      <td>Alta Floresta D'Oeste</td>\n",
       "      <td>ZONA DA MATA</td>\n",
       "      <td>2020-03-30</td>\n",
       "      <td>14</td>\n",
       "      <td>0</td>\n",
       "      <td>0</td>\n",
       "      <td>22945</td>\n",
       "    </tr>\n",
       "    <tr>\n",
       "      <th>3134</th>\n",
       "      <td>Norte</td>\n",
       "      <td>RO</td>\n",
       "      <td>Alta Floresta D'Oeste</td>\n",
       "      <td>ZONA DA MATA</td>\n",
       "      <td>2020-03-31</td>\n",
       "      <td>14</td>\n",
       "      <td>0</td>\n",
       "      <td>0</td>\n",
       "      <td>22945</td>\n",
       "    </tr>\n",
       "  </tbody>\n",
       "</table>\n",
       "</div>"
      ],
      "text/plain": [
       "     regiao estado              municipio nomeRegiaoSaude       data  \\\n",
       "3130  Norte     RO  Alta Floresta D'Oeste    ZONA DA MATA 2020-03-27   \n",
       "3131  Norte     RO  Alta Floresta D'Oeste    ZONA DA MATA 2020-03-28   \n",
       "3132  Norte     RO  Alta Floresta D'Oeste    ZONA DA MATA 2020-03-29   \n",
       "3133  Norte     RO  Alta Floresta D'Oeste    ZONA DA MATA 2020-03-30   \n",
       "3134  Norte     RO  Alta Floresta D'Oeste    ZONA DA MATA 2020-03-31   \n",
       "\n",
       "      semanaEpi  casosNovos  obitosNovos populacaoTCU2019  \n",
       "3130         13           0            0            22945  \n",
       "3131         13           0            0            22945  \n",
       "3132         14           0            0            22945  \n",
       "3133         14           0            0            22945  \n",
       "3134         14           0            0            22945  "
      ]
     },
     "execution_count": 20,
     "metadata": {},
     "output_type": "execute_result"
    }
   ],
   "source": [
    "covid_work.head()"
   ]
  },
  {
   "cell_type": "code",
   "execution_count": 21,
   "metadata": {},
   "outputs": [
    {
     "data": {
      "text/plain": [
       "regiao                      object\n",
       "estado                      object\n",
       "municipio                   object\n",
       "nomeRegiaoSaude             object\n",
       "data                datetime64[ns]\n",
       "semanaEpi                    int64\n",
       "casosNovos                   int64\n",
       "obitosNovos                  int64\n",
       "populacaoTCU2019            object\n",
       "dtype: object"
      ]
     },
     "execution_count": 21,
     "metadata": {},
     "output_type": "execute_result"
    }
   ],
   "source": [
    "covid_work.dtypes"
   ]
  },
  {
   "cell_type": "markdown",
   "metadata": {},
   "source": [
    "# Convertendo populacaoTCU2019 em int "
   ]
  },
  {
   "cell_type": "code",
   "execution_count": 22,
   "metadata": {},
   "outputs": [],
   "source": [
    "#escapando o (.) ponto e o removendo\n",
    "covid_work.populacaoTCU2019 = covid_work.populacaoTCU2019.str.replace(r\"\\.\", \"\")"
   ]
  },
  {
   "cell_type": "code",
   "execution_count": 23,
   "metadata": {},
   "outputs": [],
   "source": [
    "#escapando o ( ) espaço e o removendo\n",
    "covid_work.populacaoTCU2019 = covid_work.populacaoTCU2019.str.replace(r\"\\ \", \"\")"
   ]
  },
  {
   "cell_type": "code",
   "execution_count": 24,
   "metadata": {},
   "outputs": [],
   "source": [
    "#removendo caracteres implementados pelo TCU na string\n",
    "populacaoTCU2019_int = []\n",
    "for populacao in covid_work.populacaoTCU2019:\n",
    "    pop_list = list(populacao)\n",
    "    i = 0\n",
    "    for x in range(len(pop_list)):\n",
    "        if pop_list[x] == \"(\":\n",
    "            i = x\n",
    "    if \"(\" in pop_list:\n",
    "        del(pop_list[i:])\n",
    "    pop = ''\n",
    "    for x in range(len(pop_list)):\n",
    "        pop = pop + pop_list[x]\n",
    "    #Convertendo para inteiro\n",
    "    populacaoTCU2019_int.append(int(pop))"
   ]
  },
  {
   "cell_type": "code",
   "execution_count": 25,
   "metadata": {},
   "outputs": [
    {
     "data": {
      "text/plain": [
       "int"
      ]
     },
     "execution_count": 25,
     "metadata": {},
     "output_type": "execute_result"
    }
   ],
   "source": [
    "type(populacaoTCU2019_int[0])"
   ]
  },
  {
   "cell_type": "code",
   "execution_count": 26,
   "metadata": {},
   "outputs": [
    {
     "data": {
      "text/plain": [
       "regiao                      object\n",
       "estado                      object\n",
       "municipio                   object\n",
       "nomeRegiaoSaude             object\n",
       "data                datetime64[ns]\n",
       "semanaEpi                    int64\n",
       "casosNovos                   int64\n",
       "obitosNovos                  int64\n",
       "populacaoTCU2019            object\n",
       "dtype: object"
      ]
     },
     "execution_count": 26,
     "metadata": {},
     "output_type": "execute_result"
    }
   ],
   "source": [
    "covid_work.dtypes"
   ]
  },
  {
   "cell_type": "code",
   "execution_count": 27,
   "metadata": {},
   "outputs": [],
   "source": [
    "#adicionando a coluna convertida no dataframe\n",
    "covid_work['populacaoTCU2019_int'] = pd.Series(populacaoTCU2019_int)"
   ]
  },
  {
   "cell_type": "code",
   "execution_count": 28,
   "metadata": {},
   "outputs": [
    {
     "data": {
      "text/plain": [
       "regiao                          object\n",
       "estado                          object\n",
       "municipio                       object\n",
       "nomeRegiaoSaude                 object\n",
       "data                    datetime64[ns]\n",
       "semanaEpi                        int64\n",
       "casosNovos                       int64\n",
       "obitosNovos                      int64\n",
       "populacaoTCU2019                object\n",
       "populacaoTCU2019_int           float64\n",
       "dtype: object"
      ]
     },
     "execution_count": 28,
     "metadata": {},
     "output_type": "execute_result"
    }
   ],
   "source": [
    "covid_work.dtypes"
   ]
  },
  {
   "cell_type": "code",
   "execution_count": 29,
   "metadata": {},
   "outputs": [
    {
     "data": {
      "text/html": [
       "<div>\n",
       "<style scoped>\n",
       "    .dataframe tbody tr th:only-of-type {\n",
       "        vertical-align: middle;\n",
       "    }\n",
       "\n",
       "    .dataframe tbody tr th {\n",
       "        vertical-align: top;\n",
       "    }\n",
       "\n",
       "    .dataframe thead th {\n",
       "        text-align: right;\n",
       "    }\n",
       "</style>\n",
       "<table border=\"1\" class=\"dataframe\">\n",
       "  <thead>\n",
       "    <tr style=\"text-align: right;\">\n",
       "      <th></th>\n",
       "      <th>regiao</th>\n",
       "      <th>estado</th>\n",
       "      <th>municipio</th>\n",
       "      <th>nomeRegiaoSaude</th>\n",
       "      <th>data</th>\n",
       "      <th>semanaEpi</th>\n",
       "      <th>casosNovos</th>\n",
       "      <th>obitosNovos</th>\n",
       "      <th>populacaoTCU2019_int</th>\n",
       "    </tr>\n",
       "  </thead>\n",
       "  <tbody>\n",
       "    <tr>\n",
       "      <th>3130</th>\n",
       "      <td>Norte</td>\n",
       "      <td>RO</td>\n",
       "      <td>Alta Floresta D'Oeste</td>\n",
       "      <td>ZONA DA MATA</td>\n",
       "      <td>2020-03-27</td>\n",
       "      <td>13</td>\n",
       "      <td>0</td>\n",
       "      <td>0</td>\n",
       "      <td>6970.0</td>\n",
       "    </tr>\n",
       "    <tr>\n",
       "      <th>3131</th>\n",
       "      <td>Norte</td>\n",
       "      <td>RO</td>\n",
       "      <td>Alta Floresta D'Oeste</td>\n",
       "      <td>ZONA DA MATA</td>\n",
       "      <td>2020-03-28</td>\n",
       "      <td>13</td>\n",
       "      <td>0</td>\n",
       "      <td>0</td>\n",
       "      <td>6970.0</td>\n",
       "    </tr>\n",
       "    <tr>\n",
       "      <th>3132</th>\n",
       "      <td>Norte</td>\n",
       "      <td>RO</td>\n",
       "      <td>Alta Floresta D'Oeste</td>\n",
       "      <td>ZONA DA MATA</td>\n",
       "      <td>2020-03-29</td>\n",
       "      <td>14</td>\n",
       "      <td>0</td>\n",
       "      <td>0</td>\n",
       "      <td>6970.0</td>\n",
       "    </tr>\n",
       "    <tr>\n",
       "      <th>3133</th>\n",
       "      <td>Norte</td>\n",
       "      <td>RO</td>\n",
       "      <td>Alta Floresta D'Oeste</td>\n",
       "      <td>ZONA DA MATA</td>\n",
       "      <td>2020-03-30</td>\n",
       "      <td>14</td>\n",
       "      <td>0</td>\n",
       "      <td>0</td>\n",
       "      <td>6970.0</td>\n",
       "    </tr>\n",
       "    <tr>\n",
       "      <th>3134</th>\n",
       "      <td>Norte</td>\n",
       "      <td>RO</td>\n",
       "      <td>Alta Floresta D'Oeste</td>\n",
       "      <td>ZONA DA MATA</td>\n",
       "      <td>2020-03-31</td>\n",
       "      <td>14</td>\n",
       "      <td>0</td>\n",
       "      <td>0</td>\n",
       "      <td>6970.0</td>\n",
       "    </tr>\n",
       "  </tbody>\n",
       "</table>\n",
       "</div>"
      ],
      "text/plain": [
       "     regiao estado              municipio nomeRegiaoSaude       data  \\\n",
       "3130  Norte     RO  Alta Floresta D'Oeste    ZONA DA MATA 2020-03-27   \n",
       "3131  Norte     RO  Alta Floresta D'Oeste    ZONA DA MATA 2020-03-28   \n",
       "3132  Norte     RO  Alta Floresta D'Oeste    ZONA DA MATA 2020-03-29   \n",
       "3133  Norte     RO  Alta Floresta D'Oeste    ZONA DA MATA 2020-03-30   \n",
       "3134  Norte     RO  Alta Floresta D'Oeste    ZONA DA MATA 2020-03-31   \n",
       "\n",
       "      semanaEpi  casosNovos  obitosNovos  populacaoTCU2019_int  \n",
       "3130         13           0            0                6970.0  \n",
       "3131         13           0            0                6970.0  \n",
       "3132         14           0            0                6970.0  \n",
       "3133         14           0            0                6970.0  \n",
       "3134         14           0            0                6970.0  "
      ]
     },
     "execution_count": 29,
     "metadata": {},
     "output_type": "execute_result"
    }
   ],
   "source": [
    "#Deletado coluna 'populacaoTCU2019' do tipo 'object' do DataFrame\n",
    "covid_work.drop('populacaoTCU2019', axis=1).head()"
   ]
  },
  {
   "cell_type": "code",
   "execution_count": 30,
   "metadata": {},
   "outputs": [],
   "source": [
    "#exportando Dataframe para dados preparados\n",
    "preparados = path.home() / 'Desktop' / 'Python' / 'Analises' / '002 - Dados Preparados'\n",
    "name_work = 'covid_work.xlsx'\n",
    "covid_work.to_excel(preparados/name_work, encoding='latin-1', index=False)"
   ]
  },
  {
   "cell_type": "markdown",
   "metadata": {},
   "source": [
    "# Brasil"
   ]
  },
  {
   "cell_type": "code",
   "execution_count": 31,
   "metadata": {},
   "outputs": [
    {
     "data": {
      "text/plain": [
       "825436"
      ]
     },
     "execution_count": 31,
     "metadata": {},
     "output_type": "execute_result"
    }
   ],
   "source": [
    "#total de casos\n",
    "total_casos = covid_work.casosNovos.sum()\n",
    "total_casos"
   ]
  },
  {
   "cell_type": "code",
   "execution_count": 32,
   "metadata": {},
   "outputs": [
    {
     "data": {
      "text/plain": [
       "41770"
      ]
     },
     "execution_count": 32,
     "metadata": {},
     "output_type": "execute_result"
    }
   ],
   "source": [
    "#total de obtos\n",
    "total_obtos = covid_work.obitosNovos.sum()\n",
    "total_obtos"
   ]
  },
  {
   "cell_type": "code",
   "execution_count": 33,
   "metadata": {},
   "outputs": [
    {
     "data": {
      "text/plain": [
       "200234835.0"
      ]
     },
     "execution_count": 33,
     "metadata": {},
     "output_type": "execute_result"
    }
   ],
   "source": [
    "#total populacao avaliada\n",
    "populacao = covid_work.groupby('populacaoTCU2019_int', as_index=False).sum()\n",
    "tt_populacao = populacao.populacaoTCU2019_int.sum()\n",
    "tt_populacao"
   ]
  },
  {
   "cell_type": "code",
   "execution_count": 34,
   "metadata": {},
   "outputs": [
    {
     "data": {
      "text/plain": [
       "5.060355981566106"
      ]
     },
     "execution_count": 34,
     "metadata": {},
     "output_type": "execute_result"
    }
   ],
   "source": [
    "#letalidade em %\n",
    "letalidade = total_obtos*100/total_casos\n",
    "letalidade"
   ]
  },
  {
   "cell_type": "markdown",
   "metadata": {},
   "source": [
    "# Por Região"
   ]
  },
  {
   "cell_type": "code",
   "execution_count": 35,
   "metadata": {},
   "outputs": [
    {
     "data": {
      "text/html": [
       "<div>\n",
       "<style scoped>\n",
       "    .dataframe tbody tr th:only-of-type {\n",
       "        vertical-align: middle;\n",
       "    }\n",
       "\n",
       "    .dataframe tbody tr th {\n",
       "        vertical-align: top;\n",
       "    }\n",
       "\n",
       "    .dataframe thead th {\n",
       "        text-align: right;\n",
       "    }\n",
       "</style>\n",
       "<table border=\"1\" class=\"dataframe\">\n",
       "  <thead>\n",
       "    <tr style=\"text-align: right;\">\n",
       "      <th></th>\n",
       "      <th>regiao</th>\n",
       "      <th>casosNovos</th>\n",
       "      <th>obitosNovos</th>\n",
       "      <th>populacaoTCU2019_int</th>\n",
       "    </tr>\n",
       "  </thead>\n",
       "  <tbody>\n",
       "    <tr>\n",
       "      <th>3130</th>\n",
       "      <td>Norte</td>\n",
       "      <td>0</td>\n",
       "      <td>0</td>\n",
       "      <td>6970.0</td>\n",
       "    </tr>\n",
       "    <tr>\n",
       "      <th>3131</th>\n",
       "      <td>Norte</td>\n",
       "      <td>0</td>\n",
       "      <td>0</td>\n",
       "      <td>6970.0</td>\n",
       "    </tr>\n",
       "    <tr>\n",
       "      <th>3132</th>\n",
       "      <td>Norte</td>\n",
       "      <td>0</td>\n",
       "      <td>0</td>\n",
       "      <td>6970.0</td>\n",
       "    </tr>\n",
       "    <tr>\n",
       "      <th>3133</th>\n",
       "      <td>Norte</td>\n",
       "      <td>0</td>\n",
       "      <td>0</td>\n",
       "      <td>6970.0</td>\n",
       "    </tr>\n",
       "    <tr>\n",
       "      <th>3134</th>\n",
       "      <td>Norte</td>\n",
       "      <td>0</td>\n",
       "      <td>0</td>\n",
       "      <td>6970.0</td>\n",
       "    </tr>\n",
       "  </tbody>\n",
       "</table>\n",
       "</div>"
      ],
      "text/plain": [
       "     regiao  casosNovos  obitosNovos  populacaoTCU2019_int\n",
       "3130  Norte           0            0                6970.0\n",
       "3131  Norte           0            0                6970.0\n",
       "3132  Norte           0            0                6970.0\n",
       "3133  Norte           0            0                6970.0\n",
       "3134  Norte           0            0                6970.0"
      ]
     },
     "execution_count": 35,
     "metadata": {},
     "output_type": "execute_result"
    }
   ],
   "source": [
    "regiao = covid_work.loc[:, ['regiao','casosNovos','obitosNovos','populacaoTCU2019_int']]\n",
    "regiao.head()"
   ]
  },
  {
   "cell_type": "code",
   "execution_count": 36,
   "metadata": {},
   "outputs": [
    {
     "data": {
      "text/html": [
       "<div>\n",
       "<style scoped>\n",
       "    .dataframe tbody tr th:only-of-type {\n",
       "        vertical-align: middle;\n",
       "    }\n",
       "\n",
       "    .dataframe tbody tr th {\n",
       "        vertical-align: top;\n",
       "    }\n",
       "\n",
       "    .dataframe thead th {\n",
       "        text-align: right;\n",
       "    }\n",
       "</style>\n",
       "<table border=\"1\" class=\"dataframe\">\n",
       "  <thead>\n",
       "    <tr style=\"text-align: right;\">\n",
       "      <th></th>\n",
       "      <th>casosNovos</th>\n",
       "      <th>obitosNovos</th>\n",
       "      <th>populacaoTCU2019_int</th>\n",
       "    </tr>\n",
       "    <tr>\n",
       "      <th>regiao</th>\n",
       "      <th></th>\n",
       "      <th></th>\n",
       "      <th></th>\n",
       "    </tr>\n",
       "  </thead>\n",
       "  <tbody>\n",
       "    <tr>\n",
       "      <th>Centro-Oeste</th>\n",
       "      <td>37534</td>\n",
       "      <td>675</td>\n",
       "      <td>1.022558e+09</td>\n",
       "    </tr>\n",
       "    <tr>\n",
       "      <th>Nordeste</th>\n",
       "      <td>290658</td>\n",
       "      <td>13333</td>\n",
       "      <td>4.570613e+09</td>\n",
       "    </tr>\n",
       "    <tr>\n",
       "      <th>Norte</th>\n",
       "      <td>171009</td>\n",
       "      <td>7741</td>\n",
       "      <td>1.388292e+09</td>\n",
       "    </tr>\n",
       "    <tr>\n",
       "      <th>Sudeste</th>\n",
       "      <td>290177</td>\n",
       "      <td>19199</td>\n",
       "      <td>6.550181e+09</td>\n",
       "    </tr>\n",
       "    <tr>\n",
       "      <th>Sul</th>\n",
       "      <td>36058</td>\n",
       "      <td>822</td>\n",
       "      <td>2.269735e+09</td>\n",
       "    </tr>\n",
       "  </tbody>\n",
       "</table>\n",
       "</div>"
      ],
      "text/plain": [
       "              casosNovos  obitosNovos  populacaoTCU2019_int\n",
       "regiao                                                     \n",
       "Centro-Oeste       37534          675          1.022558e+09\n",
       "Nordeste          290658        13333          4.570613e+09\n",
       "Norte             171009         7741          1.388292e+09\n",
       "Sudeste           290177        19199          6.550181e+09\n",
       "Sul                36058          822          2.269735e+09"
      ]
     },
     "execution_count": 36,
     "metadata": {},
     "output_type": "execute_result"
    }
   ],
   "source": [
    "#Agrupando por região\n",
    "regiao_group = regiao.groupby('regiao', as_index=True).sum()\n",
    "regiao_group.head()"
   ]
  },
  {
   "cell_type": "markdown",
   "metadata": {},
   "source": [
    "# SEABORN: Graficos de barras"
   ]
  },
  {
   "cell_type": "markdown",
   "metadata": {},
   "source": [
    "Existem seis variações do tema padrão, chamados deep, muted, pastel, bright, dark, e colorblind."
   ]
  },
  {
   "cell_type": "code",
   "execution_count": 37,
   "metadata": {},
   "outputs": [
    {
     "data": {
      "text/plain": [
       "regiao\n",
       "Centro-Oeste      675\n",
       "Sul               822\n",
       "Norte            7741\n",
       "Nordeste        13333\n",
       "Sudeste         19199\n",
       "Name: obitosNovos, dtype: int64"
      ]
     },
     "execution_count": 37,
     "metadata": {},
     "output_type": "execute_result"
    },
    {
     "data": {
      "image/png": "[encoded data removed]",
      "text/plain": [
       "<Figure size 720x504 with 1 Axes>"
      ]
     },
     "metadata": {},
     "output_type": "display_data"
    }
   ],
   "source": [
    "#OBTOS NOVOS POR REGIAO\n",
    "rg_obtos = regiao_group.obitosNovos.sort_values()\n",
    "\n",
    "sb.set(style=\"white\", context=\"talk\")\n",
    "\n",
    "f, eixo01 = plt.subplots(1, 1, figsize=(10, 7), sharex=True)\n",
    "\n",
    "sb.barplot(x=rg_obtos.index, y=rg_obtos, palette=\"rocket\", ax=eixo01)\n",
    "eixo01.axhline(0, color=\"k\", clip_on=False)\n",
    "eixo01.set_ylabel(\"Obtos Novos\")\n",
    "\n",
    "rg_obtos.head()"
   ]
  },
  {
   "cell_type": "code",
   "execution_count": 38,
   "metadata": {},
   "outputs": [
    {
     "data": {
      "text/plain": [
       "regiao\n",
       "Sul              36058\n",
       "Centro-Oeste     37534\n",
       "Norte           171009\n",
       "Sudeste         290177\n",
       "Nordeste        290658\n",
       "Name: casosNovos, dtype: int64"
      ]
     },
     "execution_count": 38,
     "metadata": {},
     "output_type": "execute_result"
    },
    {
     "data": {
      "image/png": "[encoded data removed]",
      "text/plain": [
       "<Figure size 720x504 with 1 Axes>"
      ]
     },
     "metadata": {},
     "output_type": "display_data"
    }
   ],
   "source": [
    "#CASOS NOVOS POR REGIAO\n",
    "rg_casos = regiao_group.casosNovos.sort_values()\n",
    "\n",
    "sb.set(style=\"white\", context=\"talk\")\n",
    "\n",
    "f, eixo01 = plt.subplots(1, 1, figsize=(10, 7), sharex=True)\n",
    "\n",
    "sb.barplot(x=rg_casos.index, y=rg_casos, palette=\"rocket\", ax=eixo01)\n",
    "eixo01.axhline(0, color=\"k\", clip_on=False)\n",
    "eixo01.set_ylabel(\"Obtos Novos\")\n",
    "\n",
    "rg_casos.head()"
   ]
  },
  {
   "cell_type": "markdown",
   "metadata": {},
   "source": [
    "# Por Estado"
   ]
  },
  {
   "cell_type": "code",
   "execution_count": 39,
   "metadata": {},
   "outputs": [
    {
     "data": {
      "text/html": [
       "<div>\n",
       "<style scoped>\n",
       "    .dataframe tbody tr th:only-of-type {\n",
       "        vertical-align: middle;\n",
       "    }\n",
       "\n",
       "    .dataframe tbody tr th {\n",
       "        vertical-align: top;\n",
       "    }\n",
       "\n",
       "    .dataframe thead th {\n",
       "        text-align: right;\n",
       "    }\n",
       "</style>\n",
       "<table border=\"1\" class=\"dataframe\">\n",
       "  <thead>\n",
       "    <tr style=\"text-align: right;\">\n",
       "      <th></th>\n",
       "      <th>estado</th>\n",
       "      <th>casosNovos</th>\n",
       "      <th>obitosNovos</th>\n",
       "      <th>populacaoTCU2019_int</th>\n",
       "    </tr>\n",
       "  </thead>\n",
       "  <tbody>\n",
       "    <tr>\n",
       "      <th>3130</th>\n",
       "      <td>RO</td>\n",
       "      <td>0</td>\n",
       "      <td>0</td>\n",
       "      <td>6970.0</td>\n",
       "    </tr>\n",
       "    <tr>\n",
       "      <th>3131</th>\n",
       "      <td>RO</td>\n",
       "      <td>0</td>\n",
       "      <td>0</td>\n",
       "      <td>6970.0</td>\n",
       "    </tr>\n",
       "    <tr>\n",
       "      <th>3132</th>\n",
       "      <td>RO</td>\n",
       "      <td>0</td>\n",
       "      <td>0</td>\n",
       "      <td>6970.0</td>\n",
       "    </tr>\n",
       "    <tr>\n",
       "      <th>3133</th>\n",
       "      <td>RO</td>\n",
       "      <td>0</td>\n",
       "      <td>0</td>\n",
       "      <td>6970.0</td>\n",
       "    </tr>\n",
       "    <tr>\n",
       "      <th>3134</th>\n",
       "      <td>RO</td>\n",
       "      <td>0</td>\n",
       "      <td>0</td>\n",
       "      <td>6970.0</td>\n",
       "    </tr>\n",
       "  </tbody>\n",
       "</table>\n",
       "</div>"
      ],
      "text/plain": [
       "     estado  casosNovos  obitosNovos  populacaoTCU2019_int\n",
       "3130     RO           0            0                6970.0\n",
       "3131     RO           0            0                6970.0\n",
       "3132     RO           0            0                6970.0\n",
       "3133     RO           0            0                6970.0\n",
       "3134     RO           0            0                6970.0"
      ]
     },
     "execution_count": 39,
     "metadata": {},
     "output_type": "execute_result"
    }
   ],
   "source": [
    "estado = covid_work.loc[:, ['estado','casosNovos','obitosNovos','populacaoTCU2019_int']]\n",
    "estado.head()"
   ]
  },
  {
   "cell_type": "code",
   "execution_count": 40,
   "metadata": {},
   "outputs": [
    {
     "data": {
      "text/html": [
       "<div>\n",
       "<style scoped>\n",
       "    .dataframe tbody tr th:only-of-type {\n",
       "        vertical-align: middle;\n",
       "    }\n",
       "\n",
       "    .dataframe tbody tr th {\n",
       "        vertical-align: top;\n",
       "    }\n",
       "\n",
       "    .dataframe thead th {\n",
       "        text-align: right;\n",
       "    }\n",
       "</style>\n",
       "<table border=\"1\" class=\"dataframe\">\n",
       "  <thead>\n",
       "    <tr style=\"text-align: right;\">\n",
       "      <th></th>\n",
       "      <th>casosNovos</th>\n",
       "      <th>obitosNovos</th>\n",
       "      <th>populacaoTCU2019_int</th>\n",
       "    </tr>\n",
       "    <tr>\n",
       "      <th>estado</th>\n",
       "      <th></th>\n",
       "      <th></th>\n",
       "      <th></th>\n",
       "    </tr>\n",
       "  </thead>\n",
       "  <tbody>\n",
       "    <tr>\n",
       "      <th>AC</th>\n",
       "      <td>9295</td>\n",
       "      <td>254</td>\n",
       "      <td>2.328533e+08</td>\n",
       "    </tr>\n",
       "    <tr>\n",
       "      <th>AL</th>\n",
       "      <td>19954</td>\n",
       "      <td>696</td>\n",
       "      <td>2.348287e+08</td>\n",
       "    </tr>\n",
       "    <tr>\n",
       "      <th>AM</th>\n",
       "      <td>55111</td>\n",
       "      <td>2429</td>\n",
       "      <td>3.421613e+08</td>\n",
       "    </tr>\n",
       "    <tr>\n",
       "      <th>AP</th>\n",
       "      <td>15683</td>\n",
       "      <td>312</td>\n",
       "      <td>1.063292e+07</td>\n",
       "    </tr>\n",
       "    <tr>\n",
       "      <th>BA</th>\n",
       "      <td>34475</td>\n",
       "      <td>1035</td>\n",
       "      <td>1.342468e+09</td>\n",
       "    </tr>\n",
       "    <tr>\n",
       "      <th>CE</th>\n",
       "      <td>73948</td>\n",
       "      <td>4788</td>\n",
       "      <td>6.553154e+08</td>\n",
       "    </tr>\n",
       "    <tr>\n",
       "      <th>DF</th>\n",
       "      <td>21396</td>\n",
       "      <td>282</td>\n",
       "      <td>0.000000e+00</td>\n",
       "    </tr>\n",
       "    <tr>\n",
       "      <th>ES</th>\n",
       "      <td>24897</td>\n",
       "      <td>981</td>\n",
       "      <td>6.816035e+08</td>\n",
       "    </tr>\n",
       "    <tr>\n",
       "      <th>GO</th>\n",
       "      <td>7842</td>\n",
       "      <td>194</td>\n",
       "      <td>5.952706e+08</td>\n",
       "    </tr>\n",
       "    <tr>\n",
       "      <th>MA</th>\n",
       "      <td>57605</td>\n",
       "      <td>1399</td>\n",
       "      <td>4.927888e+08</td>\n",
       "    </tr>\n",
       "    <tr>\n",
       "      <th>MG</th>\n",
       "      <td>19698</td>\n",
       "      <td>433</td>\n",
       "      <td>1.344956e+09</td>\n",
       "    </tr>\n",
       "    <tr>\n",
       "      <th>MS</th>\n",
       "      <td>3001</td>\n",
       "      <td>28</td>\n",
       "      <td>1.483621e+08</td>\n",
       "    </tr>\n",
       "    <tr>\n",
       "      <th>MT</th>\n",
       "      <td>5295</td>\n",
       "      <td>171</td>\n",
       "      <td>2.789256e+08</td>\n",
       "    </tr>\n",
       "    <tr>\n",
       "      <th>PA</th>\n",
       "      <td>66328</td>\n",
       "      <td>4132</td>\n",
       "      <td>4.523794e+08</td>\n",
       "    </tr>\n",
       "    <tr>\n",
       "      <th>PB</th>\n",
       "      <td>26556</td>\n",
       "      <td>610</td>\n",
       "      <td>4.238208e+08</td>\n",
       "    </tr>\n",
       "    <tr>\n",
       "      <th>PE</th>\n",
       "      <td>43786</td>\n",
       "      <td>3674</td>\n",
       "      <td>7.393767e+08</td>\n",
       "    </tr>\n",
       "    <tr>\n",
       "      <th>PI</th>\n",
       "      <td>9337</td>\n",
       "      <td>317</td>\n",
       "      <td>3.066826e+08</td>\n",
       "    </tr>\n",
       "    <tr>\n",
       "      <th>PR</th>\n",
       "      <td>8705</td>\n",
       "      <td>294</td>\n",
       "      <td>7.918202e+08</td>\n",
       "    </tr>\n",
       "    <tr>\n",
       "      <th>RJ</th>\n",
       "      <td>77784</td>\n",
       "      <td>7417</td>\n",
       "      <td>9.741544e+08</td>\n",
       "    </tr>\n",
       "    <tr>\n",
       "      <th>RN</th>\n",
       "      <td>13463</td>\n",
       "      <td>509</td>\n",
       "      <td>2.459988e+08</td>\n",
       "    </tr>\n",
       "    <tr>\n",
       "      <th>RO</th>\n",
       "      <td>11224</td>\n",
       "      <td>296</td>\n",
       "      <td>1.123155e+08</td>\n",
       "    </tr>\n",
       "    <tr>\n",
       "      <th>RR</th>\n",
       "      <td>6624</td>\n",
       "      <td>190</td>\n",
       "      <td>6.855671e+07</td>\n",
       "    </tr>\n",
       "    <tr>\n",
       "      <th>RS</th>\n",
       "      <td>14384</td>\n",
       "      <td>337</td>\n",
       "      <td>8.886831e+08</td>\n",
       "    </tr>\n",
       "    <tr>\n",
       "      <th>SC</th>\n",
       "      <td>12969</td>\n",
       "      <td>191</td>\n",
       "      <td>5.892321e+08</td>\n",
       "    </tr>\n",
       "    <tr>\n",
       "      <th>SE</th>\n",
       "      <td>11534</td>\n",
       "      <td>305</td>\n",
       "      <td>1.293340e+08</td>\n",
       "    </tr>\n",
       "    <tr>\n",
       "      <th>SP</th>\n",
       "      <td>167798</td>\n",
       "      <td>10368</td>\n",
       "      <td>3.549467e+09</td>\n",
       "    </tr>\n",
       "    <tr>\n",
       "      <th>TO</th>\n",
       "      <td>6744</td>\n",
       "      <td>128</td>\n",
       "      <td>1.693927e+08</td>\n",
       "    </tr>\n",
       "  </tbody>\n",
       "</table>\n",
       "</div>"
      ],
      "text/plain": [
       "        casosNovos  obitosNovos  populacaoTCU2019_int\n",
       "estado                                               \n",
       "AC            9295          254          2.328533e+08\n",
       "AL           19954          696          2.348287e+08\n",
       "AM           55111         2429          3.421613e+08\n",
       "AP           15683          312          1.063292e+07\n",
       "BA           34475         1035          1.342468e+09\n",
       "CE           73948         4788          6.553154e+08\n",
       "DF           21396          282          0.000000e+00\n",
       "ES           24897          981          6.816035e+08\n",
       "GO            7842          194          5.952706e+08\n",
       "MA           57605         1399          4.927888e+08\n",
       "MG           19698          433          1.344956e+09\n",
       "MS            3001           28          1.483621e+08\n",
       "MT            5295          171          2.789256e+08\n",
       "PA           66328         4132          4.523794e+08\n",
       "PB           26556          610          4.238208e+08\n",
       "PE           43786         3674          7.393767e+08\n",
       "PI            9337          317          3.066826e+08\n",
       "PR            8705          294          7.918202e+08\n",
       "RJ           77784         7417          9.741544e+08\n",
       "RN           13463          509          2.459988e+08\n",
       "RO           11224          296          1.123155e+08\n",
       "RR            6624          190          6.855671e+07\n",
       "RS           14384          337          8.886831e+08\n",
       "SC           12969          191          5.892321e+08\n",
       "SE           11534          305          1.293340e+08\n",
       "SP          167798        10368          3.549467e+09\n",
       "TO            6744          128          1.693927e+08"
      ]
     },
     "execution_count": 40,
     "metadata": {},
     "output_type": "execute_result"
    }
   ],
   "source": [
    "#Agrupando por estado\n",
    "estado_group = estado.groupby('estado', as_index=True).sum()\n",
    "estado_group.head(30)"
   ]
  },
  {
   "cell_type": "code",
   "execution_count": 41,
   "metadata": {},
   "outputs": [
    {
     "data": {
      "text/plain": [
       "estado\n",
       "MS      3001\n",
       "MT      5295\n",
       "RR      6624\n",
       "TO      6744\n",
       "GO      7842\n",
       "PR      8705\n",
       "AC      9295\n",
       "PI      9337\n",
       "RO     11224\n",
       "SE     11534\n",
       "SC     12969\n",
       "RN     13463\n",
       "RS     14384\n",
       "AP     15683\n",
       "MG     19698\n",
       "AL     19954\n",
       "DF     21396\n",
       "ES     24897\n",
       "PB     26556\n",
       "BA     34475\n",
       "PE     43786\n",
       "AM     55111\n",
       "MA     57605\n",
       "PA     66328\n",
       "CE     73948\n",
       "RJ     77784\n",
       "SP    167798\n",
       "Name: casosNovos, dtype: int64"
      ]
     },
     "execution_count": 41,
     "metadata": {},
     "output_type": "execute_result"
    },
    {
     "data": {
      "image/png": "[encoded data removed]",
      "text/plain": [
       "<Figure size 1080x504 with 1 Axes>"
      ]
     },
     "metadata": {},
     "output_type": "display_data"
    }
   ],
   "source": [
    "#CASOS NOVOS POR ESTADO\n",
    "st_casos = estado_group.casosNovos.sort_values()#padrao : ascending = True\n",
    "\n",
    "#style = white, dark, whitegrid, darkgrid, ticks\n",
    "#context = paper, notebook, talk, poster\n",
    "sb.set(style=\"darkgrid\", context=\"talk\")\n",
    "\n",
    "f, eixo01 = plt.subplots(1, 1, figsize=(15, 7), sharex=True)\n",
    "\n",
    "sb.barplot(x=st_casos.index, y=st_casos, palette=\"dark\", ax=eixo01)\n",
    "eixo01.axhline(0, color=\"k\", clip_on=False)\n",
    "eixo01.set_ylabel(\"Obtos Novos\")\n",
    "\n",
    "st_casos.head(30)"
   ]
  },
  {
   "cell_type": "code",
   "execution_count": 42,
   "metadata": {},
   "outputs": [
    {
     "data": {
      "text/plain": [
       "estado\n",
       "MS      3001\n",
       "MT      5295\n",
       "RR      6624\n",
       "TO      6744\n",
       "GO      7842\n",
       "PR      8705\n",
       "AC      9295\n",
       "PI      9337\n",
       "RO     11224\n",
       "SE     11534\n",
       "SC     12969\n",
       "RN     13463\n",
       "RS     14384\n",
       "AP     15683\n",
       "MG     19698\n",
       "AL     19954\n",
       "DF     21396\n",
       "ES     24897\n",
       "PB     26556\n",
       "BA     34475\n",
       "PE     43786\n",
       "AM     55111\n",
       "MA     57605\n",
       "PA     66328\n",
       "CE     73948\n",
       "RJ     77784\n",
       "SP    167798\n",
       "Name: casosNovos, dtype: int64"
      ]
     },
     "execution_count": 42,
     "metadata": {},
     "output_type": "execute_result"
    },
    {
     "data": {
      "image/png": "[encoded data removed]",
      "text/plain": [
       "<Figure size 1080x504 with 1 Axes>"
      ]
     },
     "metadata": {},
     "output_type": "display_data"
    }
   ],
   "source": [
    "#CASOS NOVOS POR ESTADO\n",
    "st_obtos = estado_group.obitosNovos.sort_values(ascending=False)\n",
    "\n",
    "#style = white, dark, whitegrid, darkgrid, ticks\n",
    "#context = paper, notebook, talk, poster\n",
    "sb.set(style=\"darkgrid\", context=\"talk\")\n",
    "\n",
    "f, eixo01 = plt.subplots(1, 1, figsize=(15, 7), sharex=True)\n",
    "\n",
    "sb.barplot(x=st_obtos.index, y=st_obtos, palette=\"bright\", ax=eixo01)\n",
    "eixo01.axhline(0, color=\"k\", clip_on=False)\n",
    "eixo01.set_ylabel(\"Obtos Novos\")\n",
    "\n",
    "st_casos.head(27)"
   ]
  },
  {
   "cell_type": "code",
   "execution_count": null,
   "metadata": {},
   "outputs": [],
   "source": []
  }
 ],
 "metadata": {
  "kernelspec": {
   "display_name": "Python 3",
   "language": "python",
   "name": "python3"
  },
  "language_info": {
   "codemirror_mode": {
    "name": "ipython",
    "version": 3
   },
   "file_extension": ".py",
   "mimetype": "text/x-python",
   "name": "python",
   "nbconvert_exporter": "python",
   "pygments_lexer": "ipython3",
   "version": "3.8.3"
  }
 },
 "nbformat": 4,
 "nbformat_minor": 4
}
