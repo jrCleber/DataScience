{
 "cells": [
  {
   "cell_type": "code",
   "execution_count": 1,
   "metadata": {},
   "outputs": [],
   "source": [
    "#cmd: cd desktop/Git/DataScience/covid-19\n",
    "#activate py38\n",
    "#jupyter notebook"
   ]
  },
  {
   "cell_type": "markdown",
   "metadata": {},
   "source": [
    "# Importando modulo e criando ambiente"
   ]
  },
  {
   "cell_type": "code",
   "execution_count": 2,
   "metadata": {},
   "outputs": [],
   "source": [
    "from pathlib import Path as path\n",
    "from ambiente import DSAmbiente\n",
    "from datetime import datetime as dt"
   ]
  },
  {
   "cell_type": "code",
   "execution_count": 3,
   "metadata": {},
   "outputs": [],
   "source": [
    "#EXEMPLO DE CLASSE PARA DIREITOS AUTORAIS\n",
    "from meta import Meta\n",
    "meta = Meta()\n",
    "meta.set_meta('__creation_datetime__', dt(2020,6,14,9,51))\n",
    "meta.set_meta('__last_modified__', dt(2020,6,20,20,44))\n",
    "meta.set_meta('__credits__',['CWOJR'])\n",
    "meta.set_meta('__author__', 'jrCleber')"
   ]
  },
  {
   "cell_type": "markdown",
   "metadata": {},
   "source": [
    "# Criando ambiente para trabalhar com Dataset"
   ]
  },
  {
   "cell_type": "code",
   "execution_count": 4,
   "metadata": {},
   "outputs": [],
   "source": [
    "#local do arquivo de dados\n",
    "dataset = path('E:\\_datasets_')"
   ]
  },
  {
   "cell_type": "code",
   "execution_count": 5,
   "metadata": {},
   "outputs": [],
   "source": [
    "#instanciando objeto\n",
    "ab = DSAmbiente()"
   ]
  },
  {
   "cell_type": "markdown",
   "metadata": {},
   "source": [
    "CONSTRUINDO O AMBIENTE JUNTO COM O DATASET"
   ]
  },
  {
   "cell_type": "code",
   "execution_count": 6,
   "metadata": {},
   "outputs": [
    {
     "data": {
      "text/plain": [
       "WindowsPath('C:/Users/clebe/Desktop/Python')"
      ]
     },
     "execution_count": 6,
     "metadata": {},
     "output_type": "execute_result"
    }
   ],
   "source": [
    "#local de criação do ambiente\n",
    "#local padrao: ab.get_criacao()\n",
    "\n",
    "ab.set_path(ab.get_path() / 'Python')\n",
    "ab.get_path()"
   ]
  },
  {
   "cell_type": "code",
   "execution_count": 8,
   "metadata": {},
   "outputs": [
    {
     "name": "stdout",
     "output_type": "stream",
     "text": [
      "SELECIONE O DATASET:\n",
      "____________________________________________________________\n",
      "E:\\_datasets_\n",
      "(0) para para o Dataset: enen_enade_2014.csv\n",
      "(1) para para o Dataset: enen_enade_2014.xls\n",
      "(2) para para o Dataset: enen_enade_2015.csv\n",
      "(3) para para o Dataset: enen_enade_2015.xlsx\n",
      "(4) para para o Dataset: enen_enade_2016 - Copy.csv\n",
      "(5) para para o Dataset: enen_enade_2016.csv\n",
      "(6) para para o Dataset: enen_enade_2016.xlsx\n",
      "(7) para para o Dataset: hist_covid19br_2020-06-14.xlsx\n",
      "(8) para para o Dataset: hist_covid19br_2020-06-15.xlsx\n",
      "(9) para para o Dataset: USD_BRL_2019.csv\n",
      "(10) para para o Dataset: USD_BRL_2020.csv\n",
      "(11) para para o Dataset: WHO-COVID-19-global-data.csv\n",
      "____________________________________________________________\n",
      "------------------------------------------------------------\n",
      "Escolha: 8\n"
     ]
    },
    {
     "data": {
      "text/plain": [
       "WindowsPath('E:/_datasets_/hist_covid19br_2020-06-15.xlsx')"
      ]
     },
     "execution_count": 8,
     "metadata": {},
     "output_type": "execute_result"
    }
   ],
   "source": [
    "#alocando path do dataset em uma variável\n",
    "if path(dataset).exists():\n",
    "    file = ab.local_file(dataset)\n",
    "file"
   ]
  },
  {
   "cell_type": "code",
   "execution_count": 9,
   "metadata": {},
   "outputs": [
    {
     "name": "stdout",
     "output_type": "stream",
     "text": [
      "Ambiente inesistente\n",
      "Criando ambiente...\n",
      "Ambiente criado com sucesso em: \n",
      " C:\\Users\\clebe\\Desktop\\Python\\Analises\n"
     ]
    }
   ],
   "source": [
    "#construindo ambiente\n",
    "ab.construcao(file) #o parametro file=None : construção do ambiente sem o dataset"
   ]
  },
  {
   "cell_type": "code",
   "execution_count": null,
   "metadata": {},
   "outputs": [],
   "source": []
  }
 ],
 "metadata": {
  "kernelspec": {
   "display_name": "Python 3",
   "language": "python",
   "name": "python3"
  },
  "language_info": {
   "codemirror_mode": {
    "name": "ipython",
    "version": 3
   },
   "file_extension": ".py",
   "mimetype": "text/x-python",
   "name": "python",
   "nbconvert_exporter": "python",
   "pygments_lexer": "ipython3",
   "version": "3.8.3"
  }
 },
 "nbformat": 4,
 "nbformat_minor": 4
}
